{
 "cells": [
  {
   "cell_type": "markdown",
   "metadata": {},
   "source": [
    "# Predict direction of market using past information"
   ]
  },
  {
   "cell_type": "markdown",
   "metadata": {},
   "source": [
    "## Use returns of Brent crude oil in D-1,2,3,4,5 and number of moving average to predict if D day return is UP or DOWN\n",
    "\n",
    "Traders usually like to ask the 1 million dollar question : Is the market going UP or DOWN today ?\n",
    "\n",
    "The analyst gathers all arguments possible to answer but in fact he will give the most probable situation. Sometimes if market has strong move during one day, it might correct the day after, put another way we have higher chance of market going down after a day up, vice e versa. In the oil markets for example, the weekly stock reports in US are released 3 times during the week : 1st by poll of analysts on Monday, then API on Tuesday and finally Thursday from the governemental agency EIA. We know that markets nowadays believe more information coming from the latter institution, and if analysts and API miss estimation, we might have opposite direction in market too.\n",
    "\n",
    "Even if this is not true it is interesting to study the correlation of past returns and impact on next day return for a commodity asset class.\n",
    "\n",
    "The motivation for this work comes the need to have a 1st opinion in the morning where the market should go, and express it in term of probability.\n",
    "\n",
    "I have based my work with a book \"An Introduction to Statistical Learning, with R\" from Gareth James , Daniela Witten, Trevor Hastie , Robert Tibshirani\n",
    "\n",
    "I have used python libraries scikit learn, stasmodels and matplotlib.\n",
    "\n",
    "A) Correlation study\n",
    "\n",
    "B) Logistic regression model\n",
    "\n",
    "C) Cross Validation with k-fold method\n",
    "\n",
    "D) Possible extension LDA, QDA and k NN\n"
   ]
  },
  {
   "cell_type": "code",
   "execution_count": 1,
   "metadata": {},
   "outputs": [
    {
     "name": "stderr",
     "output_type": "stream",
     "text": [
      "C:\\Users\\BQUIDET\\Anaconda3\\lib\\site-packages\\statsmodels\\compat\\pandas.py:56: FutureWarning: The pandas.core.datetools module is deprecated and will be removed in a future version. Please use the pandas.tseries module instead.\n",
      "  from pandas.core import datetools\n"
     ]
    }
   ],
   "source": [
    "import numpy as np\n",
    "import pandas as pd\n",
    "from pandas import Series,DataFrame\n",
    "\n",
    "import math\n",
    "\n",
    "import matplotlib.pyplot as plt\n",
    "import seaborn as sns\n",
    "sns.set_style('whitegrid')\n",
    "%matplotlib inline\n",
    "\n",
    "from sklearn.linear_model import LogisticRegression\n",
    "\n",
    "from sklearn import metrics\n",
    "\n",
    "import statsmodels.api as sm\n",
    "import statsmodels.formula.api as smf\n",
    "from statsmodels.formula.api import ols\n"
   ]
  },
  {
   "cell_type": "code",
   "execution_count": null,
   "metadata": {},
   "outputs": [],
   "source": []
  },
  {
   "cell_type": "markdown",
   "metadata": {},
   "source": [
    "## A) Prepare variables"
   ]
  },
  {
   "cell_type": "code",
   "execution_count": 3,
   "metadata": {
    "scrolled": true
   },
   "outputs": [
    {
     "name": "stderr",
     "output_type": "stream",
     "text": [
      "C:\\Users\\BQUIDET\\Anaconda3\\lib\\site-packages\\ipykernel_launcher.py:37: RuntimeWarning: invalid value encountered in sign\n"
     ]
    }
   ],
   "source": [
    "# we read data from csv\n",
    "brent = pd.read_csv('dataBrent.csv',sep=',', parse_dates=[0], index_col=0,infer_datetime_format=True)\n",
    "brent = brent.fillna(float('nan'))\n",
    "\n",
    "# We take first 6 lines out of sample and convert all data into numeric\n",
    "brent = brent.iloc[6::]\n",
    "brent.index.names = ['Date']\n",
    "brent = brent.apply(pd.to_numeric)\n",
    "brent.index = pd.to_datetime(brent.index)\n",
    "\n",
    "# We create the return column\n",
    "brent_rets = brent\n",
    "brent_rets['rets'] = brent['CO1 Comdty'].pct_change()\n",
    "\n",
    "# Let's create all lag in a new column\n",
    "for i in range(5):\n",
    "    brent_rets['lag'+'{}'.format(i+1)]=brent_rets['rets'].shift(i+1)\n",
    "\n",
    "# Create check function, we won't include 0 in the UP market as we consider\n",
    "def UporDown(x):\n",
    "    if x > 0:\n",
    "        return 1\n",
    "    elif x <= 0:\n",
    "        return 0\n",
    "\n",
    "ma_day = [5,10,20,50,100,200]\n",
    "#volumeMA = DataFrame(databrute.sort_index())\n",
    "for ma in ma_day:\n",
    "    column_name = \"MA for %s days\" %(str(ma))\n",
    "    brent_rets[column_name]= brent_rets['CO1 Comdty'].rolling(ma).mean()\n",
    "\n",
    "    \n",
    "\n",
    "brent_rets['Direction'] = brent_rets['rets'].apply(UporDown)\n",
    "# Now we create variable with the number of MA above and below market price by taking the sign  \n",
    "# of the difference Price - MA\n",
    "brent_rets['numberMAabove'] = np.sign(brent_rets['MA for 200 days'] + brent_rets['CO1 Comdty'])+np.sign(brent_rets['MA for 100 days']-brent_rets['CO1 Comdty'] ) +np.sign(brent_rets['MA for 50 days']-brent_rets['CO1 Comdty'])+np.sign(brent_rets['MA for 20 days']-brent_rets['CO1 Comdty'])+np.sign(brent_rets['MA for 10 days']-brent_rets['CO1 Comdty'])+np.sign(brent_rets['MA for 5 days']-brent_rets['CO1 Comdty']) \n"
   ]
  },
  {
   "cell_type": "code",
   "execution_count": 4,
   "metadata": {
    "scrolled": true
   },
   "outputs": [
    {
     "data": {
      "text/html": [
       "<div>\n",
       "<style scoped>\n",
       "    .dataframe tbody tr th:only-of-type {\n",
       "        vertical-align: middle;\n",
       "    }\n",
       "\n",
       "    .dataframe tbody tr th {\n",
       "        vertical-align: top;\n",
       "    }\n",
       "\n",
       "    .dataframe thead th {\n",
       "        text-align: right;\n",
       "    }\n",
       "</style>\n",
       "<table border=\"1\" class=\"dataframe\">\n",
       "  <thead>\n",
       "    <tr style=\"text-align: right;\">\n",
       "      <th></th>\n",
       "      <th>CO1 Comdty</th>\n",
       "      <th>rets</th>\n",
       "      <th>lag1</th>\n",
       "      <th>lag2</th>\n",
       "      <th>lag3</th>\n",
       "      <th>lag4</th>\n",
       "      <th>lag5</th>\n",
       "      <th>Direction</th>\n",
       "      <th>numberMAabove</th>\n",
       "    </tr>\n",
       "    <tr>\n",
       "      <th>Date</th>\n",
       "      <th></th>\n",
       "      <th></th>\n",
       "      <th></th>\n",
       "      <th></th>\n",
       "      <th></th>\n",
       "      <th></th>\n",
       "      <th></th>\n",
       "      <th></th>\n",
       "      <th></th>\n",
       "    </tr>\n",
       "  </thead>\n",
       "  <tbody>\n",
       "    <tr>\n",
       "      <th>2017-12-18</th>\n",
       "      <td>63.41</td>\n",
       "      <td>0.002847</td>\n",
       "      <td>-0.001264</td>\n",
       "      <td>0.013933</td>\n",
       "      <td>-0.014209</td>\n",
       "      <td>-0.020869</td>\n",
       "      <td>0.020347</td>\n",
       "      <td>1.0</td>\n",
       "      <td>-4.0</td>\n",
       "    </tr>\n",
       "    <tr>\n",
       "      <th>2017-12-19</th>\n",
       "      <td>63.80</td>\n",
       "      <td>0.006150</td>\n",
       "      <td>0.002847</td>\n",
       "      <td>-0.001264</td>\n",
       "      <td>0.013933</td>\n",
       "      <td>-0.014209</td>\n",
       "      <td>-0.020869</td>\n",
       "      <td>1.0</td>\n",
       "      <td>-4.0</td>\n",
       "    </tr>\n",
       "    <tr>\n",
       "      <th>2017-12-20</th>\n",
       "      <td>64.56</td>\n",
       "      <td>0.011912</td>\n",
       "      <td>0.006150</td>\n",
       "      <td>0.002847</td>\n",
       "      <td>-0.001264</td>\n",
       "      <td>0.013933</td>\n",
       "      <td>-0.014209</td>\n",
       "      <td>1.0</td>\n",
       "      <td>-4.0</td>\n",
       "    </tr>\n",
       "    <tr>\n",
       "      <th>2017-12-21</th>\n",
       "      <td>64.90</td>\n",
       "      <td>0.005266</td>\n",
       "      <td>0.011912</td>\n",
       "      <td>0.006150</td>\n",
       "      <td>0.002847</td>\n",
       "      <td>-0.001264</td>\n",
       "      <td>0.013933</td>\n",
       "      <td>1.0</td>\n",
       "      <td>-4.0</td>\n",
       "    </tr>\n",
       "    <tr>\n",
       "      <th>2017-12-22</th>\n",
       "      <td>65.25</td>\n",
       "      <td>0.005393</td>\n",
       "      <td>0.005266</td>\n",
       "      <td>0.011912</td>\n",
       "      <td>0.006150</td>\n",
       "      <td>0.002847</td>\n",
       "      <td>-0.001264</td>\n",
       "      <td>1.0</td>\n",
       "      <td>-4.0</td>\n",
       "    </tr>\n",
       "  </tbody>\n",
       "</table>\n",
       "</div>"
      ],
      "text/plain": [
       "            CO1 Comdty      rets      lag1      lag2      lag3      lag4  \\\n",
       "Date                                                                       \n",
       "2017-12-18       63.41  0.002847 -0.001264  0.013933 -0.014209 -0.020869   \n",
       "2017-12-19       63.80  0.006150  0.002847 -0.001264  0.013933 -0.014209   \n",
       "2017-12-20       64.56  0.011912  0.006150  0.002847 -0.001264  0.013933   \n",
       "2017-12-21       64.90  0.005266  0.011912  0.006150  0.002847 -0.001264   \n",
       "2017-12-22       65.25  0.005393  0.005266  0.011912  0.006150  0.002847   \n",
       "\n",
       "                lag5  Direction  numberMAabove  \n",
       "Date                                            \n",
       "2017-12-18  0.020347        1.0           -4.0  \n",
       "2017-12-19 -0.020869        1.0           -4.0  \n",
       "2017-12-20 -0.014209        1.0           -4.0  \n",
       "2017-12-21  0.013933        1.0           -4.0  \n",
       "2017-12-22 -0.001264        1.0           -4.0  "
      ]
     },
     "execution_count": 4,
     "metadata": {},
     "output_type": "execute_result"
    }
   ],
   "source": [
    "# Now we have to drop the MA and take data from 1996 in order to have all value for the new variable numberMAabove\n",
    "brent_rets = brent_rets.drop(['MA for 5 days','MA for 10 days','MA for 20 days','MA for 50 days','MA for 100 days','MA for 200 days','FUT_AGGTE_VOL'],axis=1)\n",
    "\n",
    "brent_rets = brent_rets[brent_rets.index>'1996-01-01']\n",
    "brent_rets.tail()"
   ]
  },
  {
   "cell_type": "code",
   "execution_count": 6,
   "metadata": {
    "scrolled": false
   },
   "outputs": [
    {
     "data": {
      "image/png": "[encoded data removed]",
      "text/plain": [
       "<matplotlib.figure.Figure at 0x1b1d2d086d8>"
      ]
     },
     "metadata": {},
     "output_type": "display_data"
    }
   ],
   "source": [
    "from datetime import datetime\n",
    "import matplotlib.dates as mdates\n",
    "# Let's plot Brent price to understand what is happening in 2017\n",
    "\n",
    "\n",
    "years = mdates.YearLocator()\n",
    "months = mdates.MonthLocator()\n",
    "monthsFmt = mdates.DateFormatter('%b') \n",
    "yearsFmt = mdates.DateFormatter('\\n\\n%Y') \n",
    "\n",
    "fig, ax = plt.subplots(figsize=(12, 8))\n",
    "\n",
    "ax.set_ylabel('USD/bbl', color='black',size=16)\n",
    "ax.grid(which='both', color='0.65',linestyle='--')\n",
    "temp = brent_rets[brent_rets.index>'2017-01-01']\n",
    "ax.plot(temp.index, temp['CO1 Comdty'],'-bo', color='r',alpha=0.5)\n",
    "vals1 = ax.get_yticks()\n",
    "ax.set_yticklabels(['{:5,.1f}'.format(x) for x in vals1])\n",
    "ax.tick_params(labelsize=16)\n",
    "\n",
    "# Let's put Dates in better format with Year and Month\n",
    "ax.xaxis.set_minor_locator(months)\n",
    "ax.xaxis.set_minor_formatter(monthsFmt)\n",
    "plt.setp(ax.xaxis.get_minorticklabels(), rotation=90)\n",
    "ax.xaxis.set_major_locator(years)\n",
    "ax.xaxis.set_major_formatter(yearsFmt)\n",
    "\n",
    "\n",
    "ax.legend(loc='lower left',prop={'size':20})\n",
    "\n",
    "plt.title(\"Brent Futures 1st nearby 2017\",size=24);"
   ]
  },
  {
   "cell_type": "markdown",
   "metadata": {},
   "source": [
    " \n",
    " We can see a 1H 2017 is a down trend with a low in June. \n",
    " After we have an uptrend until December, we will use this set to validate the modele trained from 1995 to 2016,\n",
    " as it reflects the most recent behavior of crude oil market.\n",
    " \n",
    " Market saw stocks rising at the beggining of 2017, with agreement of OPEC in Nov 2016 to cut production at 32.5mio bbls, agreement which excluded Nigeria and Libya. Market was disappointed as commitment of countries was not at expectation and de facto some countries did not comply at 100%.\n",
    " \n",
    " This coincides with expectation of OPEC meeting on Nov 30 to extend production cut into 2018 \n",
    " Global oil stocks are decreasing and expected to be below 5 years moving average in March 2018\n",
    " \n",
    " \n",
    " \n",
    " \n",
    " \n",
    " \n",
    " \n",
    " \n",
    " \n",
    " \n",
    " \n",
    " \n",
    " \n",
    " \n",
    " \n",
    " "
   ]
  },
  {
   "cell_type": "code",
   "execution_count": 7,
   "metadata": {
    "scrolled": false
   },
   "outputs": [
    {
     "data": {
      "image/png": "[encoded data removed]",
      "text/plain": [
       "<matplotlib.figure.Figure at 0x1b1d2d5b940>"
      ]
     },
     "metadata": {},
     "output_type": "display_data"
    }
   ],
   "source": [
    "# Let's see correlation btw lag returns\n",
    "\n",
    "test = brent_rets.copy()\n",
    "test = test.drop('Direction',1)\n",
    "#test = test.drop('Weekday',1)\n",
    "\n",
    "\n",
    "# Compute the correlation matrix\n",
    "corr = test.dropna().corr()\n",
    "\n",
    "# Generate a mask for the upper triangle\n",
    "mask = np.zeros_like(corr, dtype=np.bool)\n",
    "mask[np.triu_indices_from(mask)] = True\n",
    "\n",
    "# Set up the matplotlib figure\n",
    "f, ax = plt.subplots(figsize=(11, 9))\n",
    "\n",
    "# Generate a custom diverging colormap\n",
    "cmap = sns.diverging_palette(220, 10, as_cmap=True)\n",
    "\n",
    "# Draw the heatmap with the mask and correct aspect ratio\n",
    "sns.heatmap(corr, mask=mask, cmap=cmap, vmax=.3, center=0,\n",
    "            square=True, linewidths=.5, cbar_kws={\"shrink\": .5});\n"
   ]
  },
  {
   "cell_type": "markdown",
   "metadata": {},
   "source": [
    "We can see clearly that number of moving averages has a negative correlation with return of Brent price.\n",
    "This goes against the naive opinion which states that when prices trend above or under its moving average,\n",
    "it tends to correct and revert toward moving average."
   ]
  },
  {
   "cell_type": "code",
   "execution_count": 8,
   "metadata": {},
   "outputs": [
    {
     "data": {
      "text/html": [
       "<div>\n",
       "<style scoped>\n",
       "    .dataframe tbody tr th:only-of-type {\n",
       "        vertical-align: middle;\n",
       "    }\n",
       "\n",
       "    .dataframe tbody tr th {\n",
       "        vertical-align: top;\n",
       "    }\n",
       "\n",
       "    .dataframe thead th {\n",
       "        text-align: right;\n",
       "    }\n",
       "</style>\n",
       "<table border=\"1\" class=\"dataframe\">\n",
       "  <thead>\n",
       "    <tr style=\"text-align: right;\">\n",
       "      <th></th>\n",
       "      <th>CO1 Comdty</th>\n",
       "      <th>rets</th>\n",
       "      <th>lag1</th>\n",
       "      <th>lag2</th>\n",
       "      <th>lag3</th>\n",
       "      <th>lag4</th>\n",
       "      <th>lag5</th>\n",
       "      <th>Direction</th>\n",
       "      <th>numberMAabove</th>\n",
       "    </tr>\n",
       "  </thead>\n",
       "  <tbody>\n",
       "    <tr>\n",
       "      <th>count</th>\n",
       "      <td>5618.000000</td>\n",
       "      <td>5618.000000</td>\n",
       "      <td>5618.000000</td>\n",
       "      <td>5618.000000</td>\n",
       "      <td>5618.000000</td>\n",
       "      <td>5618.000000</td>\n",
       "      <td>5618.000000</td>\n",
       "      <td>5618.000000</td>\n",
       "      <td>4679.000000</td>\n",
       "    </tr>\n",
       "    <tr>\n",
       "      <th>mean</th>\n",
       "      <td>56.434751</td>\n",
       "      <td>0.000468</td>\n",
       "      <td>0.000468</td>\n",
       "      <td>0.000466</td>\n",
       "      <td>0.000469</td>\n",
       "      <td>0.000468</td>\n",
       "      <td>0.000467</td>\n",
       "      <td>0.512104</td>\n",
       "      <td>0.545416</td>\n",
       "    </tr>\n",
       "    <tr>\n",
       "      <th>std</th>\n",
       "      <td>33.843335</td>\n",
       "      <td>0.022010</td>\n",
       "      <td>0.022010</td>\n",
       "      <td>0.022010</td>\n",
       "      <td>0.022013</td>\n",
       "      <td>0.022013</td>\n",
       "      <td>0.022013</td>\n",
       "      <td>0.499898</td>\n",
       "      <td>3.820024</td>\n",
       "    </tr>\n",
       "    <tr>\n",
       "      <th>min</th>\n",
       "      <td>9.640000</td>\n",
       "      <td>-0.134434</td>\n",
       "      <td>-0.134434</td>\n",
       "      <td>-0.134434</td>\n",
       "      <td>-0.134434</td>\n",
       "      <td>-0.134434</td>\n",
       "      <td>-0.134434</td>\n",
       "      <td>0.000000</td>\n",
       "      <td>-4.000000</td>\n",
       "    </tr>\n",
       "    <tr>\n",
       "      <th>25%</th>\n",
       "      <td>25.942500</td>\n",
       "      <td>-0.011346</td>\n",
       "      <td>-0.011346</td>\n",
       "      <td>-0.011346</td>\n",
       "      <td>-0.011346</td>\n",
       "      <td>-0.011346</td>\n",
       "      <td>-0.011346</td>\n",
       "      <td>0.000000</td>\n",
       "      <td>-4.000000</td>\n",
       "    </tr>\n",
       "    <tr>\n",
       "      <th>50%</th>\n",
       "      <td>50.820000</td>\n",
       "      <td>0.000747</td>\n",
       "      <td>0.000747</td>\n",
       "      <td>0.000742</td>\n",
       "      <td>0.000742</td>\n",
       "      <td>0.000742</td>\n",
       "      <td>0.000731</td>\n",
       "      <td>1.000000</td>\n",
       "      <td>0.000000</td>\n",
       "    </tr>\n",
       "    <tr>\n",
       "      <th>75%</th>\n",
       "      <td>78.910000</td>\n",
       "      <td>0.011926</td>\n",
       "      <td>0.011926</td>\n",
       "      <td>0.011926</td>\n",
       "      <td>0.011938</td>\n",
       "      <td>0.011938</td>\n",
       "      <td>0.011938</td>\n",
       "      <td>1.000000</td>\n",
       "      <td>4.000000</td>\n",
       "    </tr>\n",
       "    <tr>\n",
       "      <th>max</th>\n",
       "      <td>146.080000</td>\n",
       "      <td>0.137670</td>\n",
       "      <td>0.137670</td>\n",
       "      <td>0.137670</td>\n",
       "      <td>0.137670</td>\n",
       "      <td>0.137670</td>\n",
       "      <td>0.137670</td>\n",
       "      <td>1.000000</td>\n",
       "      <td>6.000000</td>\n",
       "    </tr>\n",
       "  </tbody>\n",
       "</table>\n",
       "</div>"
      ],
      "text/plain": [
       "        CO1 Comdty         rets         lag1         lag2         lag3  \\\n",
       "count  5618.000000  5618.000000  5618.000000  5618.000000  5618.000000   \n",
       "mean     56.434751     0.000468     0.000468     0.000466     0.000469   \n",
       "std      33.843335     0.022010     0.022010     0.022010     0.022013   \n",
       "min       9.640000    -0.134434    -0.134434    -0.134434    -0.134434   \n",
       "25%      25.942500    -0.011346    -0.011346    -0.011346    -0.011346   \n",
       "50%      50.820000     0.000747     0.000747     0.000742     0.000742   \n",
       "75%      78.910000     0.011926     0.011926     0.011926     0.011938   \n",
       "max     146.080000     0.137670     0.137670     0.137670     0.137670   \n",
       "\n",
       "              lag4         lag5    Direction  numberMAabove  \n",
       "count  5618.000000  5618.000000  5618.000000    4679.000000  \n",
       "mean      0.000468     0.000467     0.512104       0.545416  \n",
       "std       0.022013     0.022013     0.499898       3.820024  \n",
       "min      -0.134434    -0.134434     0.000000      -4.000000  \n",
       "25%      -0.011346    -0.011346     0.000000      -4.000000  \n",
       "50%       0.000742     0.000731     1.000000       0.000000  \n",
       "75%       0.011938     0.011938     1.000000       4.000000  \n",
       "max       0.137670     0.137670     1.000000       6.000000  "
      ]
     },
     "execution_count": 8,
     "metadata": {},
     "output_type": "execute_result"
    }
   ],
   "source": [
    "brent_rets.describe()"
   ]
  },
  {
   "cell_type": "markdown",
   "metadata": {},
   "source": [
    "\n",
    "# B) Logistic regression"
   ]
  },
  {
   "cell_type": "code",
   "execution_count": 9,
   "metadata": {
    "scrolled": true
   },
   "outputs": [],
   "source": [
    "# Create new DataFrames for the Categorical Variables\n",
    "\n",
    "# Set X as new DataFrame without the Direction columns nor the Y target\n",
    "X = brent_rets.drop(['Direction','CO1 Comdty','rets'],axis=1)\n",
    "\n",
    "#X = X.iloc[6::]\n",
    "X.index = Series(range(0,len(X.index)))\n",
    "X = X.fillna(0)\n"
   ]
  },
  {
   "cell_type": "code",
   "execution_count": 12,
   "metadata": {},
   "outputs": [
    {
     "name": "stdout",
     "output_type": "stream",
     "text": [
      "AxesSubplot(0.125,0.125;0.775x0.755)\n"
     ]
    },
    {
     "name": "stderr",
     "output_type": "stream",
     "text": [
      "C:\\Users\\BQUIDET\\Anaconda3\\lib\\site-packages\\ipykernel_launcher.py:7: FutureWarning: convert_objects is deprecated.  To re-infer data dtypes for object columns, use Series.infer_objects()\n",
      "For all other conversions use the data-type specific converters pd.to_datetime, pd.to_timedelta and pd.to_numeric.\n",
      "  import sys\n"
     ]
    },
    {
     "data": {
      "image/png": "[encoded data removed]",
      "text/plain": [
       "<matplotlib.figure.Figure at 0x1b1d309d438>"
      ]
     },
     "metadata": {},
     "output_type": "display_data"
    }
   ],
   "source": [
    "\n",
    "# Set Y as Target class, returns\n",
    "Y = brent_rets.Direction\n",
    "\n",
    "# Preview\n",
    "Y.head()\n",
    "Y = Y.convert_objects(convert_numeric=True)\n",
    "\n",
    "\n",
    "Y = Y.fillna(0)\n",
    "\n",
    "Y.index = Series(range(0,len(Y.index)))\n",
    "\n",
    "print(sns.countplot(Y));\n",
    "\n",
    "# Flatten array\n",
    "Y = np.ravel(Y);\n"
   ]
  },
  {
   "cell_type": "code",
   "execution_count": 13,
   "metadata": {},
   "outputs": [
    {
     "data": {
      "image/png": "[encoded data removed]",
      "text/plain": [
       "<matplotlib.figure.Figure at 0x1b1d30dcc88>"
      ]
     },
     "metadata": {},
     "output_type": "display_data"
    }
   ],
   "source": [
    "# let's plot direction of the market with lag1 et lag3 in x and y axis\n",
    "import matplotlib.cm as cm\n",
    "import matplotlib.colors as colors\n",
    "\n",
    "plt.figure(figsize=(10,8))\n",
    "#fig, ax = plt.subplots(figsize=(12,8))\n",
    "#leg = {'1':'Up','0':'Down'}\n",
    "#ax.scatter(X['lag1'],X['numberMAabove'],c=Y,label=leg)\n",
    "\n",
    "plt.scatter(X['lag1'][Y == 1], \n",
    "            # attacker size in year 298 as the y axis\n",
    "            X['numberMAabove'][Y == 1], \n",
    "            # the marker as\n",
    "            marker='x', \n",
    "            # the color\n",
    "            color='black',\n",
    "            # the alpha\n",
    "            alpha=0.7,\n",
    "            # with size\n",
    "            s = 124,\n",
    "            # labelled this\n",
    "            label='UP')\n",
    "\n",
    "plt.scatter(X['lag1'][Y == 0], X['numberMAabove'][Y == 0], \n",
    "            # the marker as\n",
    "            marker='o', \n",
    "            # the color\n",
    "            color='orange',\n",
    "            # the alpha\n",
    "            alpha=0.7,\n",
    "            # with size\n",
    "            s = 70,\n",
    "            # labelled this\n",
    "            label='DOWN')\n",
    "\n",
    "# Chart title\n",
    "plt.title('Market direction with number of MA above Brent vs lag1',size=18)\n",
    "\n",
    "# y label\n",
    "plt.ylabel('number of MA above Brent')\n",
    "\n",
    "# x label\n",
    "plt.xlabel('lag1 return value')\n",
    "\n",
    "# and a legend\n",
    "plt.legend(loc='upper right')\n",
    "plt.show()"
   ]
  },
  {
   "cell_type": "markdown",
   "metadata": {},
   "source": [
    "We can see that when they are 6 moving averages above price of Brent, we don't really see that market went UP or DOWN with specific number of MA above or below current Price."
   ]
  },
  {
   "cell_type": "code",
   "execution_count": 19,
   "metadata": {
    "scrolled": false
   },
   "outputs": [
    {
     "name": "stdout",
     "output_type": "stream",
     "text": [
      "Optimization terminated successfully.\n",
      "         Current function value: 0.603828\n",
      "         Iterations 5\n",
      "                           Logit Regression Results                           \n",
      "==============================================================================\n",
      "Dep. Variable:                      y   No. Observations:                 5634\n",
      "Model:                          Logit   Df Residuals:                     5628\n",
      "Method:                           MLE   Df Model:                            5\n",
      "Date:                Fri, 29 Jun 2018   Pseudo R-squ.:                  0.1286\n",
      "Time:                        13:14:49   Log-Likelihood:                -3402.0\n",
      "converged:                       True   LL-Null:                       -3903.9\n",
      "                                        LLR p-value:                8.644e-215\n",
      "=================================================================================\n",
      "                    coef    std err          z      P>|z|      [0.025      0.975]\n",
      "---------------------------------------------------------------------------------\n",
      "lag1            -22.3037      1.513    -14.741      0.000     -25.269     -19.338\n",
      "lag2            -14.5265      1.451    -10.014      0.000     -17.370     -11.683\n",
      "lag3             -8.0933      1.404     -5.766      0.000     -10.844      -5.342\n",
      "lag4             -6.6829      1.382     -4.835      0.000      -9.392      -3.974\n",
      "lag5             -7.9513      1.376     -5.777      0.000     -10.649      -5.253\n",
      "numberMAabove    -0.3071      0.011    -28.149      0.000      -0.328      -0.286\n",
      "=================================================================================\n"
     ]
    }
   ],
   "source": [
    "# Use statsmodel to summarise and before doing machine learning separation btw train and test sample\n",
    "\n",
    "import statsmodels.api as sm\n",
    "from scipy import stats\n",
    "stats.chisqprob = lambda chisq, df: stats.chi2.sf(chisq, df)\n",
    "\n",
    "logit_model=sm.Logit(Y,X)\n",
    "result=logit_model.fit()\n",
    "print(result.summary())"
   ]
  },
  {
   "cell_type": "markdown",
   "metadata": {
    "scrolled": true
   },
   "source": [
    "We see different things here:\n",
    "\n",
    "- lag1,2,3,4,5 has all negative coefficient, lag1 and lag2 have bigger coefficient than lag3,4 and 5\n",
    "\n",
    "- numberMAabove is significant in the model as we can see the biggest z value, we can see though that the coefficient is negative, meaning that the more MAs above price will tend to make direction of market down. As z-value are computed as the test statistic for the hypothesis test that the true corresponding regression cofficient equals 0. As lag1,2 and numberMAabove z-values are all outside the confidence inteval at 95%, we can reject H0 hypothesis with 95% conficence and keep those variables\n",
    "\n",
    "- lag3,4 z-values are debatables but we will keep them as we want to keep returns over 1 week past "
   ]
  },
  {
   "cell_type": "code",
   "execution_count": 18,
   "metadata": {},
   "outputs": [
    {
     "name": "stdout",
     "output_type": "stream",
     "text": [
      "Optimization terminated successfully.\n",
      "         Current function value: 0.634077\n",
      "         Iterations 5\n",
      "                           Logit Regression Results                           \n",
      "==============================================================================\n",
      "Dep. Variable:                      y   No. Observations:                 5634\n",
      "Model:                          Logit   Df Residuals:                     5633\n",
      "Method:                           MLE   Df Model:                            0\n",
      "Date:                Fri, 29 Jun 2018   Pseudo R-squ.:                 0.08492\n",
      "Time:                        13:14:36   Log-Likelihood:                -3572.4\n",
      "converged:                       True   LL-Null:                       -3903.9\n",
      "                                        LLR p-value:                       nan\n",
      "=================================================================================\n",
      "                    coef    std err          z      P>|z|      [0.025      0.975]\n",
      "---------------------------------------------------------------------------------\n",
      "numberMAabove    -0.2082      0.009    -24.239      0.000      -0.225      -0.191\n",
      "=================================================================================\n"
     ]
    }
   ],
   "source": [
    "# let's run the model with only 1 variable in order to see that there are no counfounding for the numberMAabove \n",
    "# variable. \n",
    "XX = X.copy(0)\n",
    "YY = Y.copy()\n",
    "XX = XX.drop(['lag1','lag2','lag3','lag4','lag5',],axis=1)\n",
    "\n",
    "import statsmodels.api as sm\n",
    "logit_model=sm.Logit(YY,XX)\n",
    "result=logit_model.fit()\n",
    "print(result.summary())"
   ]
  },
  {
   "cell_type": "markdown",
   "metadata": {},
   "source": [
    "The cofficient of numberMAabove variable is still negative, so we can confirm it has negative impact on the logit\n",
    "or the odds of market going UP"
   ]
  },
  {
   "cell_type": "code",
   "execution_count": 21,
   "metadata": {},
   "outputs": [
    {
     "name": "stdout",
     "output_type": "stream",
     "text": [
      "0.6450124245651402\n"
     ]
    }
   ],
   "source": [
    "# Now we fit the model to logistic by using Maximum of Likelyhood to determine the coefficient to use in the \n",
    "# logit function\n",
    "\n",
    "# Create LogisticRegression model\n",
    "log_model = LogisticRegression()\n",
    "\n",
    "# Fit our data\n",
    "log_model.fit(X,Y)\n",
    "\n",
    "# Check our accuracy\n",
    "print(log_model.score(X,Y))\n"
   ]
  },
  {
   "cell_type": "code",
   "execution_count": 25,
   "metadata": {
    "scrolled": true
   },
   "outputs": [
    {
     "name": "stdout",
     "output_type": "stream",
     "text": [
      "              prob assoc with model\n",
      "xaxis                              \n",
      "6.661338e-16               0.740848\n"
     ]
    },
    {
     "data": {
      "image/png": "[encoded data removed]",
      "text/plain": [
       "<matplotlib.figure.Figure at 0x1b1d2d1c550>"
      ]
     },
     "metadata": {},
     "output_type": "display_data"
    }
   ],
   "source": [
    "#let's print the log-odds function using lag1 days possiblity\n",
    "\n",
    "# Use zip to bring the column names and the np.transpose function to bring together the coefficients from the model\n",
    "coeff_df = DataFrame(dict(zip(X.columns, np.transpose(log_model.coef_))))\n",
    "\n",
    "xabs = np.arange(-0.8,0.8 , 0.01)\n",
    "\n",
    "# Let's create empty array with lag1 value in x-axis\n",
    "ligne = []\n",
    "# test will be the array with predictions made for a range of different values for lag1 returns\n",
    "test = []\n",
    "\n",
    "# We create for loop to fill probability of market direction in y-axis according to lag1\n",
    "for i in range(len(xabs)):\n",
    "    ligne.append(np.dot(np.array(log_model.coef_), np.array([xabs[i],brent_rets['rets'][-2], brent_rets['rets'][-3],brent_rets['rets'][-4],brent_rets['rets'][-5],brent_rets['numberMAabove'][-1]])))\n",
    "    test.append([xabs[i],brent_rets['rets'][-2], brent_rets['rets'][-3],brent_rets['rets'][-4],brent_rets['rets'][-5],brent_rets['numberMAabove'][-1]])\n",
    "\n",
    "d = {'xaxis': xabs, 'prob assoc with model': log_model.predict_proba(test)[:,1]}\n",
    "df = pd.DataFrame(data=d)\n",
    "df.index = df['xaxis']\n",
    "df = df.drop(['xaxis'],axis=1)\n",
    "plt.plot(xabs,log_model.predict_proba(test)[:,1])\n",
    "\n",
    "#print df.loc[df['prob assoc with model'] in [-0.07:-0.06]]\n",
    "print(df.loc[0:0.01])"
   ]
  },
  {
   "cell_type": "markdown",
   "metadata": {},
   "source": [
    " We see that model is very narrow around 70 to 80% probability range. outside those levels we have returns for higher than 20%, which is not realistic for market situation in Brent crude oil."
   ]
  },
  {
   "cell_type": "code",
   "execution_count": 26,
   "metadata": {},
   "outputs": [
    {
     "name": "stdout",
     "output_type": "stream",
     "text": [
      "       prob assoc with number of MA above and below\n",
      "xaxis                                              \n",
      "0                                          0.514437\n"
     ]
    },
    {
     "data": {
      "image/png": "[encoded data removed]",
      "text/plain": [
       "<matplotlib.figure.Figure at 0x1b1d3630b38>"
      ]
     },
     "metadata": {},
     "output_type": "display_data"
    }
   ],
   "source": [
    "# Use zip to bring the column names and the np.transpose function to bring together the coefficients from the model\n",
    "coeff_df = DataFrame(dict(zip(X.columns, np.transpose(log_model.coef_))))\n",
    "\n",
    "xabs = np.arange(-6,7,1)\n",
    "# Let's create empty array with lag1 value in x-axis\n",
    "ligne = []\n",
    "# test will be the array with predictions made for a range of different values for lag1 returns\n",
    "test = []\n",
    "\n",
    "# We create for loop to fill probability of market direction in y-axis according to lag1\n",
    "for i in range(len(xabs)):\n",
    "    ligne.append(np.dot(np.array(log_model.coef_), np.array([xabs[i],brent_rets['rets'][-2], brent_rets['rets'][-3],brent_rets['rets'][-4],brent_rets['rets'][-5],xabs[i]])))\n",
    "    test.append([brent_rets['rets'][-1],brent_rets['rets'][-2], brent_rets['rets'][-3],brent_rets['rets'][-4],brent_rets['rets'][-5],xabs[i]])\n",
    "\n",
    "d = {'xaxis': xabs, 'prob assoc with number of MA above and below': log_model.predict_proba(test)[:,1]}\n",
    "df = pd.DataFrame(data=d)\n",
    "df.index = df['xaxis']\n",
    "df = df.drop(['xaxis'],axis=1)\n",
    "plt.plot(xabs,log_model.predict_proba(test)[:,1])\n",
    "\n",
    "#print df.loc[df['prob assoc with model'] in [-0.07:-0.06]]\n",
    "print(df.loc[0:0.01])"
   ]
  },
  {
   "cell_type": "markdown",
   "metadata": {},
   "source": [
    "We can see that according to the number of MA above or below the probability for market of going up or down \n",
    "ranges from 20% in situation where Brent is overbought with 6 MA on top and it needs to continue to drift higher. \n",
    "On the otherside, when market is oversold, with 6 moving averages above, we see the probability of going uponly at 80%.\n"
   ]
  },
  {
   "cell_type": "code",
   "execution_count": 27,
   "metadata": {},
   "outputs": [
    {
     "data": {
      "text/plain": [
       "array([[0.26622882, 0.73377118]])"
      ]
     },
     "execution_count": 27,
     "metadata": {},
     "output_type": "execute_result"
    }
   ],
   "source": [
    "# Now let's calculate the probability that market will go up on Monday\n",
    "\n",
    "last5days = [brent_rets['rets'][-1],brent_rets['rets'][-2], brent_rets['rets'][-3],brent_rets['rets'][-4],brent_rets['rets'][-5],brent_rets['numberMAabove'][-1]]\n",
    "last5days = np.array(last5days)\n",
    "last5days = last5days.reshape(1,-1)\n",
    "log_model.predict_proba(last5days)"
   ]
  },
  {
   "cell_type": "code",
   "execution_count": 28,
   "metadata": {},
   "outputs": [
    {
     "data": {
      "text/plain": [
       "array([0., 1.])"
      ]
     },
     "execution_count": 28,
     "metadata": {},
     "output_type": "execute_result"
    }
   ],
   "source": [
    "log_model.classes_"
   ]
  },
  {
   "cell_type": "markdown",
   "metadata": {},
   "source": [
    "We conclude that direction of market will go up on Tuesday 27th of December, as probabiity is 73.3% \n",
    "and superior at 50%"
   ]
  },
  {
   "cell_type": "markdown",
   "metadata": {},
   "source": [
    "Now let's split data with training and test in order to calculate an error sample if we consider that all probability above 50% will be UPside market"
   ]
  },
  {
   "cell_type": "code",
   "execution_count": 29,
   "metadata": {
    "scrolled": false
   },
   "outputs": [
    {
     "data": {
      "text/plain": [
       "LogisticRegression(C=1.0, class_weight=None, dual=False, fit_intercept=True,\n",
       "          intercept_scaling=1, max_iter=100, multi_class='ovr', n_jobs=1,\n",
       "          penalty='l2', random_state=None, solver='liblinear', tol=0.0001,\n",
       "          verbose=0, warm_start=False)"
      ]
     },
     "execution_count": 29,
     "metadata": {},
     "output_type": "execute_result"
    }
   ],
   "source": [
    "#let's train our data before 2017\n",
    "X_train = brent_rets.drop(['Direction','CO1 Comdty','rets'],axis=1)\n",
    "#X_train = X_train.iloc[6::]\n",
    "X_train = X_train[X_train.index<'2017-01-01']\n",
    "X_train.index = Series(range(0,len(X_train.index)))\n",
    "X_train = X_train.fillna(0)\n",
    "\n",
    "# Now the Direction\n",
    "Y_train = brent_rets[brent_rets.index<'2017-01-01'].Direction\n",
    "#Y_train = Y_train.iloc[6::]\n",
    "Y_train = Y_train.fillna(0)\n",
    "Y_train.index = Series(range(0,len(Y_train.index)))\n",
    "# Flatten array\n",
    "Y_train = np.ravel(Y_train)\n",
    "\n",
    "\n",
    "# Now let's do the test set\n",
    "X_test = brent_rets.drop(['Direction','CO1 Comdty','rets'],axis=1)\n",
    "X_test = X_test[X_test.index>='2017-01-01']\n",
    "X_test.index = Series(range(0,len(X_test.index)))\n",
    "X_test = X_test.fillna(0)\n",
    "\n",
    "# Now the Direction\n",
    "Y_test = brent_rets[brent_rets.index>='2017-01-01'].Direction\n",
    "Y_test = Y_test.fillna(0)\n",
    "Y_test.index = Series(range(0,len(Y_test.index)))\n",
    "# Flatten array\n",
    "Y_test = np.ravel(Y_test)\n",
    "\n",
    "\n",
    "# Make a new log_model\n",
    "log_model2 = LogisticRegression()\n",
    "\n",
    "# Now fit the new model\n",
    "log_model2.fit(X_train, Y_train)\n"
   ]
  },
  {
   "cell_type": "code",
   "execution_count": 31,
   "metadata": {},
   "outputs": [
    {
     "name": "stdout",
     "output_type": "stream",
     "text": [
      "0.6403162055335968\n"
     ]
    }
   ],
   "source": [
    "# Predict the classes of the testing data set\n",
    "class_predict = log_model2.predict(X_test)\n",
    "\n",
    "# Compare the predicted classes to the actual test classes\n",
    "print(metrics.accuracy_score(Y_test,class_predict))"
   ]
  },
  {
   "cell_type": "markdown",
   "metadata": {},
   "source": [
    "It looks like we have a accuracy rate better than the naive approach in 2017 returns , at 64% we can predict that market will go UP or DOWN, which is not bad. Let's see what this model gives for Tuesday 27th "
   ]
  },
  {
   "cell_type": "code",
   "execution_count": 32,
   "metadata": {},
   "outputs": [
    {
     "data": {
      "text/plain": [
       "array([[0.26646324, 0.73353676]])"
      ]
     },
     "execution_count": 32,
     "metadata": {},
     "output_type": "execute_result"
    }
   ],
   "source": [
    "log_model2.predict_proba(last5days)"
   ]
  },
  {
   "cell_type": "markdown",
   "metadata": {},
   "source": [
    "So we have a 73.3% chance that market will go UP on December 27th. ( In reality it went down on that day ;) ! )"
   ]
  },
  {
   "cell_type": "code",
   "execution_count": 33,
   "metadata": {},
   "outputs": [
    {
     "name": "stdout",
     "output_type": "stream",
     "text": [
      "59 51 40 103\n"
     ]
    },
    {
     "data": {
      "text/plain": [
       "array([[ 59,  51],\n",
       "       [ 40, 103]], dtype=int64)"
      ]
     },
     "execution_count": 33,
     "metadata": {},
     "output_type": "execute_result"
    }
   ],
   "source": [
    "from sklearn.metrics import confusion_matrix\n",
    "\n",
    "tn, fp, fn, tp = confusion_matrix(Y_test,class_predict).ravel()\n",
    "print (tn, fp, fn, tp)\n",
    "\n",
    "confusion_matrix(Y_test,class_predict)"
   ]
  },
  {
   "cell_type": "markdown",
   "metadata": {},
   "source": [
    " total 253 returns over the year 2017\n",
    " \n",
    " the logistic model made 54 incorrect prediction when market was going down and it predicted to go up. This happens at the 1H of 2017, when market was trending lower from 57 to 45 $ a barrel, but we notice that market was correcting more after it made moves on the downside.\n",
    " \n",
    " the logistic model made 38 incorrect prediction when market was going up and it predicted to go down. The incorrect prediction happened mostly after June 2017 when market was trending up with consecutives days up. \n",
    " \n",
    " The Recall for this model is TP/(TP+FN) = 103/143 = 0.73\n",
    " \n",
    " The precision for this model is TP/(TP+FP) = 105/159 = 0.66\n",
    " \n",
    " The specificity for this model is TN/(TN+FP) = 59 / 110 = 0.53\n",
    " \n",
    " The ROC for this model is RECALL/ SPECIFICITY = 0.73 / ( 0.53) = 1.37\n",
    " \n",
    " When data is highly skewed the recall-precision give a better picture of the model performance = 1.106\n",
    " "
   ]
  },
  {
   "cell_type": "markdown",
   "metadata": {},
   "source": [
    "We have here good predictions for recall or number of positive model catched.\n",
    "Nonetheless the specificity is st low and show we have catched only 53% of the negative values."
   ]
  },
  {
   "cell_type": "markdown",
   "metadata": {},
   "source": [
    "# Cross-validation with k-fold methods\n",
    "\n",
    "Let's split the initial sample X into k samples : we will take 40 samples as we want 1 sample per semester\n",
    "\n",
    "we use test sample as first simple and run 40 times the operation to evaluate the accuracy score, each set has \n",
    "a different test set\n",
    "\n"
   ]
  },
  {
   "cell_type": "code",
   "execution_count": 34,
   "metadata": {},
   "outputs": [],
   "source": [
    "from sklearn.model_selection import KFold\n",
    "\n",
    "# We create empty array which will store the accuracy of estimation\n",
    "dtemp = []\n",
    "\n",
    "# We use original data and prepare it\n",
    "rets = brent_rets\n",
    "#rets = rets.iloc[6::]\n",
    "rets = rets.fillna(0)\n",
    "rets.index = Series(range(0,len(rets.index)))\n",
    "dire = np.array(rets.Direction)\n",
    "rets = np.array(rets.drop(['Direction','CO1 Comdty','rets'],axis=1))\n",
    "\n",
    "# We create 40 different sets from original data and run a k-fold method to Cross validate\n",
    "kf = KFold(n_splits=40)\n",
    "\n",
    "# We loop into the 39 different training set to calculate accurace with validation set\n",
    "for train, test in kf.split(rets):\n",
    "    # we create each train and test sets using k-fold method and name corresponding data\n",
    "    X_train, X_test, y_train, y_test = rets[train], rets[test], dire[train], dire[test]\n",
    "    \n",
    "    # we fit the model of the train data for each 39 training set\n",
    "    log_model3 = LogisticRegression()\n",
    "    log_model3.fit(X_train, y_train)\n",
    "    \n",
    "    # we predict the direction with each training set\n",
    "    class_predict = log_model3.predict(X_test)\n",
    "\n",
    "    # we calculate the accuracy of prediction with validation set and store the accuracy score in a new variable\n",
    "    dtemp.append(metrics.accuracy_score(y_test,class_predict))\n"
   ]
  },
  {
   "cell_type": "code",
   "execution_count": 37,
   "metadata": {},
   "outputs": [
    {
     "name": "stdout",
     "output_type": "stream",
     "text": [
      "The cross validation model gives a mean accuracy of 0.6446783181357649\n"
     ]
    },
    {
     "data": {
      "image/png": "[encoded data removed]",
      "text/plain": [
       "<matplotlib.figure.Figure at 0x1b1d3770438>"
      ]
     },
     "metadata": {},
     "output_type": "display_data"
    }
   ],
   "source": [
    "print (\"The cross validation model gives a mean accuracy of %s\" %np.array(dtemp).mean())\n",
    "\n",
    "fig, ax = plt.subplots(1,2,figsize=(10, 10))\n",
    "\n",
    "ax1 = plt.subplot(221)\n",
    "plt.hist(dtemp);\n",
    "\n",
    "ax2 = plt.subplot(222)\n",
    "plt.boxplot(dtemp);"
   ]
  },
  {
   "cell_type": "markdown",
   "metadata": {},
   "source": [
    "\n",
    " The K-fold CV gives us a lower accuracy rate of the model than the accuracy of 2017 test set. \n",
    "\n",
    "Let's see what period gave a prediction accuracy of 55%\n"
   ]
  },
  {
   "cell_type": "code",
   "execution_count": 39,
   "metadata": {
    "scrolled": true
   },
   "outputs": [
    {
     "name": "stdout",
     "output_type": "stream",
     "text": [
      " the incices of the test period for which accuracy rate was below 55pct is 2001-01-10, 2001-07-25 \n",
      " the incices of the test period for which accuracy rate was below 55pct is 2002-02-11, 2002-08-28 \n",
      " the incices of the test period for which accuracy rate was below 55pct is 2003-03-17, 2003-10-02 \n"
     ]
    }
   ],
   "source": [
    "outliers = []\n",
    "\n",
    "for train, test in kf.split(rets):\n",
    "    # we create each train and test sets using k-fold method and name corresponding data\n",
    "    X_train, X_test, y_train, y_test = rets[train], rets[test], dire[train], dire[test]\n",
    "    \n",
    "    # we fit the model of the train data for each 39 training set\n",
    "    log_model3 = LogisticRegression()\n",
    "    log_model3.fit(X_train, y_train)\n",
    "    \n",
    "    # we predict the direction with each training set\n",
    "    class_predict = log_model3.predict(X_test)\n",
    "    \n",
    "    if metrics.accuracy_score(y_test,class_predict)<0.55:\n",
    "        outliers.append(test)\n",
    "        \n",
    "df = Series(outliers)\n",
    "\n",
    "for i in range(len(df)):\n",
    "    date1=min(brent_rets.iloc[min(df[i]):max(df[i])].index)\n",
    "    date2=max(brent_rets.iloc[min(df[i]):max(df[i])].index)\n",
    "    print(\" the incices of the test period for which accuracy rate was below 55pct is %s, %s \" %(date1.date(),date2.date()))\n",
    "    #print \" the incices of the test period for which accuracy rate was below 55pct is %s\" %date1\n",
    "#df.to_csv('trainset.csv')"
   ]
  },
  {
   "cell_type": "markdown",
   "metadata": {},
   "source": [
    "We have three different periods during which we see very low accuracy rate if we train the model out of those times. \n",
    "It is not enough to conclude something from it though, as it was not a particular time such as 2008 crisis"
   ]
  },
  {
   "cell_type": "markdown",
   "metadata": {
    "collapsed": true
   },
   "source": [
    "# Let's check with Naive Bays model\n"
   ]
  },
  {
   "cell_type": "code",
   "execution_count": 56,
   "metadata": {},
   "outputs": [
    {
     "data": {
      "image/png": "[encoded data removed]",
      "text/plain": [
       "<matplotlib.figure.Figure at 0x1b1d39de358>"
      ]
     },
     "metadata": {},
     "output_type": "display_data"
    }
   ],
   "source": [
    "import matplotlib\n",
    "\n",
    "DataFrame(rets)\n",
    "\n",
    "def distri(dire):\n",
    "    plt.figure(figsize=(10,6))\n",
    "\n",
    "    ax = sns.countplot(dire)\n",
    "\n",
    "    ncount = len(dire)\n",
    "\n",
    "    plt.title('Distribution of market direction')\n",
    "    plt.xlabel('Number of Axles')\n",
    "\n",
    "    # Make twin axis\n",
    "    ax2=ax.twinx()\n",
    "\n",
    "    # Switch so count axis is on right, frequency on left\n",
    "    ax2.yaxis.tick_left()\n",
    "    ax.yaxis.tick_right()\n",
    "\n",
    "    # Also switch the labels over\n",
    "    ax.yaxis.set_label_position('right')\n",
    "    ax2.yaxis.set_label_position('left')\n",
    "\n",
    "    ax2.set_ylabel('Frequency [%]')\n",
    "\n",
    "    for p in ax.patches:\n",
    "        x=p.get_bbox().get_points()[:,0]\n",
    "        y=p.get_bbox().get_points()[1,1]\n",
    "        ax.annotate('{:.1f}%'.format(100.*y/ncount), (x.mean(), y), \n",
    "                ha='center', va='bottom') # set the alignment of the text\n",
    "\n",
    "    # Use a LinearLocator to ensure the correct number of ticks\n",
    "    ax.yaxis.set_major_locator(matplotlib.ticker.LinearLocator(11))\n",
    "\n",
    "    # Fix the frequency range to 0-100\n",
    "    ax2.set_ylim(0,100)\n",
    "    ax.set_ylim(0,ncount)\n",
    "\n",
    "    # And use a MultipleLocator to ensure a tick spacing of 10\n",
    "    ax2.yaxis.set_major_locator(matplotlib.ticker.MultipleLocator(10))\n",
    "\n",
    "    # Need to turn the grid on ax2 off, otherwise the gridlines end up on top of the bars\n",
    "    ax2.grid(None)\n",
    "    \n",
    "\n",
    "distri(dire)"
   ]
  },
  {
   "cell_type": "markdown",
   "metadata": {},
   "source": [
    "# 1] Create a pipeline for the logistic model"
   ]
  },
  {
   "cell_type": "code",
   "execution_count": 72,
   "metadata": {},
   "outputs": [
    {
     "data": {
      "text/plain": [
       "dict_keys(['memory', 'steps', 'logistic', 'logistic__C', 'logistic__class_weight', 'logistic__dual', 'logistic__fit_intercept', 'logistic__intercept_scaling', 'logistic__max_iter', 'logistic__multi_class', 'logistic__n_jobs', 'logistic__penalty', 'logistic__random_state', 'logistic__solver', 'logistic__tol', 'logistic__verbose', 'logistic__warm_start'])"
      ]
     },
     "execution_count": 72,
     "metadata": {},
     "output_type": "execute_result"
    }
   ],
   "source": [
    "from sklearn.pipeline import Pipeline, FeatureUnion\n",
    "\n",
    "full_pipeline = Pipeline([\n",
    "    (\"logistic\", LogisticRegression()),\n",
    "])\n",
    "\n",
    "full_pipeline.fit(rets,dire)\n",
    "\n",
    "full_pipeline.get_params().keys()"
   ]
  },
  {
   "cell_type": "code",
   "execution_count": 74,
   "metadata": {},
   "outputs": [
    {
     "name": "stdout",
     "output_type": "stream",
     "text": [
      "Fitting 5 folds for each of 6 candidates, totalling 30 fits\n"
     ]
    },
    {
     "name": "stderr",
     "output_type": "stream",
     "text": [
      "[Parallel(n_jobs=4)]: Done  30 out of  30 | elapsed:    2.2s finished\n"
     ]
    },
    {
     "data": {
      "text/plain": [
       "RandomizedSearchCV(cv=5, error_score='raise',\n",
       "          estimator=Pipeline(memory=None,\n",
       "     steps=[('logistic', LogisticRegression(C=1.0, class_weight=None, dual=False, fit_intercept=True,\n",
       "          intercept_scaling=1, max_iter=100, multi_class='ovr', n_jobs=1,\n",
       "          penalty='l2', random_state=None, solver='liblinear', tol=0.0001,\n",
       "          verbose=0, warm_start=False))]),\n",
       "          fit_params=None, iid=True, n_iter=6, n_jobs=4,\n",
       "          param_distributions={'logistic__C': [1, 5, 10, 20, 50], 'logistic__fit_intercept': [True, False], 'logistic__class_weight': ['balanced']},\n",
       "          pre_dispatch='2*n_jobs', random_state=42, refit=True,\n",
       "          return_train_score='warn', scoring='neg_mean_squared_error',\n",
       "          verbose=2)"
      ]
     },
     "execution_count": 74,
     "metadata": {},
     "output_type": "execute_result"
    }
   ],
   "source": [
    "from sklearn.model_selection import GridSearchCV\n",
    "from sklearn.model_selection import RandomizedSearchCV\n",
    "\n",
    "#Let's do a random search to get the best param\n",
    "param_distribs = {\n",
    "        'logistic__C': [1,5,10,20,50],\n",
    "        'logistic__fit_intercept': [True, False],\n",
    "        'logistic__class_weight': ['balanced']\n",
    "    }\n",
    "\n",
    "rnd_search = RandomizedSearchCV(full_pipeline, param_distributions=param_distribs,\n",
    "                                n_iter=6, cv=5, scoring='neg_mean_squared_error',\n",
    "                                verbose=2, n_jobs=4, random_state=42)\n",
    "rnd_search.fit(rets, dire)"
   ]
  },
  {
   "cell_type": "code",
   "execution_count": 75,
   "metadata": {},
   "outputs": [
    {
     "name": "stdout",
     "output_type": "stream",
     "text": [
      "Scores: 0.5881627260046924\n",
      "Mean: 0.591890950580077\n",
      "Standard deviation: 0.0\n",
      "Best params: {'logistic__fit_intercept': False, 'logistic__class_weight': 'balanced', 'logistic__C': 20}\n"
     ]
    }
   ],
   "source": [
    "#display_scores and best parameters\n",
    "\n",
    "negative_mse = rnd_search.best_score_\n",
    "rmse = np.sqrt(-negative_mse)\n",
    "\n",
    "def display_scores_params(scores):\n",
    "    print(\"Scores:\", scores)\n",
    "    print(\"Mean:\", np.sqrt(-rnd_search.cv_results_['mean_test_score']).mean())\n",
    "    print(\"Standard deviation:\", scores.std())\n",
    "    print(\"Best params:\", rnd_search.best_params_)\n",
    "    \n",
    "display_scores_params(rmse)"
   ]
  },
  {
   "cell_type": "code",
   "execution_count": 76,
   "metadata": {},
   "outputs": [
    {
     "name": "stdout",
     "output_type": "stream",
     "text": [
      "CV test scores : [0.57581272 0.58041316 0.66976232 0.66177282 0.57888374 0.59100827\n",
      " 0.56020513 0.5737434  0.57529197 0.5875336 ]\n",
      "rmse(mean, std): (0.596534, 0.211399)\n",
      "training rmse:  0.5958083378359686\n"
     ]
    }
   ],
   "source": [
    "final_predict = full_pipeline.predict(rets)\n",
    "\n",
    "from sklearn.model_selection import cross_val_score\n",
    "from sklearn.metrics import mean_squared_error\n",
    "\n",
    "final_scores = cross_val_score(full_pipeline, rets, dire, scoring=\"neg_mean_squared_error\", cv=10)\n",
    "\n",
    "print(\"CV test scores :\", np.sqrt(-final_scores))\n",
    "print (\"rmse(mean, std): (%lf, %lf)\" % (np.sqrt(-final_scores.mean()), np.sqrt(final_scores.std())))\n",
    "print (\"training rmse: \" ,np.sqrt(mean_squared_error(dire, final_predict)))"
   ]
  },
  {
   "cell_type": "markdown",
   "metadata": {},
   "source": [
    "# 2] Create pipeline for Naive Bays model similarly to above "
   ]
  },
  {
   "cell_type": "code",
   "execution_count": 80,
   "metadata": {},
   "outputs": [
    {
     "data": {
      "text/plain": [
       "dict_keys(['memory', 'steps', 'NaiveBays', 'NaiveBays__alpha', 'NaiveBays__binarize', 'NaiveBays__class_prior', 'NaiveBays__fit_prior'])"
      ]
     },
     "execution_count": 80,
     "metadata": {},
     "output_type": "execute_result"
    }
   ],
   "source": [
    "from sklearn.naive_bayes import BernoulliNB\n",
    "\n",
    "full_pipeline = Pipeline([\n",
    "    (\"NaiveBays\", BernoulliNB()),\n",
    "])\n",
    "\n",
    "full_pipeline.fit(rets,dire)\n",
    "\n",
    "full_pipeline.get_params().keys()"
   ]
  },
  {
   "cell_type": "code",
   "execution_count": 85,
   "metadata": {},
   "outputs": [
    {
     "name": "stdout",
     "output_type": "stream",
     "text": [
      "Fitting 5 folds for each of 6 candidates, totalling 30 fits\n"
     ]
    },
    {
     "name": "stderr",
     "output_type": "stream",
     "text": [
      "[Parallel(n_jobs=4)]: Done  23 out of  30 | elapsed:    1.9s remaining:    0.5s\n",
      "[Parallel(n_jobs=4)]: Done  30 out of  30 | elapsed:    1.9s finished\n"
     ]
    },
    {
     "data": {
      "text/plain": [
       "RandomizedSearchCV(cv=5, error_score='raise',\n",
       "          estimator=Pipeline(memory=None,\n",
       "     steps=[('NaiveBays', BernoulliNB(alpha=1.0, binarize=0.0, class_prior=None, fit_prior=True))]),\n",
       "          fit_params=None, iid=True, n_iter=6, n_jobs=4,\n",
       "          param_distributions={'NaiveBays__alpha': [0.1, 0.5, 1, 5, 10], 'NaiveBays__binarize': [None, 1], 'NaiveBays__fit_prior': [0, 1]},\n",
       "          pre_dispatch='2*n_jobs', random_state=42, refit=True,\n",
       "          return_train_score='warn', scoring='neg_mean_squared_error',\n",
       "          verbose=2)"
      ]
     },
     "execution_count": 85,
     "metadata": {},
     "output_type": "execute_result"
    }
   ],
   "source": [
    "from sklearn.model_selection import GridSearchCV\n",
    "from sklearn.model_selection import RandomizedSearchCV\n",
    "\n",
    "#Let's do a random search to get the best param\n",
    "param_distribs = {\n",
    "        'NaiveBays__alpha': [0.1, 0.5,1,5,10],\n",
    "        'NaiveBays__binarize': [None, 1],\n",
    "        'NaiveBays__fit_prior': [0, 1],\n",
    "    }\n",
    "\n",
    "rnd_search = RandomizedSearchCV(full_pipeline, param_distributions=param_distribs,\n",
    "                                n_iter=6, cv=5, scoring='neg_mean_squared_error',\n",
    "                                verbose=2, n_jobs=4, random_state=42)\n",
    "rnd_search.fit(rets, dire)"
   ]
  },
  {
   "cell_type": "code",
   "execution_count": 86,
   "metadata": {},
   "outputs": [
    {
     "name": "stdout",
     "output_type": "stream",
     "text": [
      "Scores: 0.6043858164471356\n",
      "Mean: 0.6962289095474071\n",
      "Standard deviation: 0.0\n",
      "Best params: {'NaiveBays__fit_prior': 1, 'NaiveBays__binarize': 1, 'NaiveBays__alpha': 5}\n"
     ]
    }
   ],
   "source": [
    "#display_scores and best parameters\n",
    "\n",
    "negative_mse = rnd_search.best_score_\n",
    "rmse = np.sqrt(-negative_mse)\n",
    "\n",
    "def display_scores_params(scores):\n",
    "    print(\"Scores:\", scores)\n",
    "    print(\"Mean:\", np.sqrt(-rnd_search.cv_results_['mean_test_score']).mean())\n",
    "    print(\"Standard deviation:\", scores.std())\n",
    "    print(\"Best params:\", rnd_search.best_params_)\n",
    "    \n",
    "display_scores_params(rmse)"
   ]
  },
  {
   "cell_type": "code",
   "execution_count": 87,
   "metadata": {},
   "outputs": [
    {
     "name": "stdout",
     "output_type": "stream",
     "text": [
      "CV test scores : [0.57888374 0.58041316 0.69317852 0.69827548 0.57117522 0.58345997\n",
      " 0.56336124 0.57991287 0.581445   0.59505674]\n",
      "rmse(mean, std): (0.604366, 0.245107)\n",
      "training rmse:  0.6043858164471356\n"
     ]
    }
   ],
   "source": [
    "final_predict = full_pipeline.predict(rets)\n",
    "\n",
    "from sklearn.model_selection import cross_val_score\n",
    "from sklearn.metrics import mean_squared_error\n",
    "\n",
    "final_scores = cross_val_score(full_pipeline, rets, dire, scoring=\"neg_mean_squared_error\", cv=10)\n",
    "\n",
    "print(\"CV test scores :\", np.sqrt(-final_scores))\n",
    "print (\"rmse(mean, std): (%lf, %lf)\" % (np.sqrt(-final_scores.mean()), np.sqrt(final_scores.std())))\n",
    "print (\"training rmse: \" ,np.sqrt(mean_squared_error(dire, final_predict)))"
   ]
  },
  {
   "cell_type": "markdown",
   "metadata": {},
   "source": [
    " => We can see that Naive Bays does slighlty better than logistic model\n",
    " \n",
    " => Next we will study the Gaussian Discriminant Analysis, by taking the intuition that it is a stronger assumption of the logistic model, when data is behaving more like as a normal distribution ( which can be the case for distribution of stock returns )"
   ]
  },
  {
   "cell_type": "markdown",
   "metadata": {},
   "source": [
    "# 3] Gaussian discriminant analysis model"
   ]
  },
  {
   "cell_type": "code",
   "execution_count": 89,
   "metadata": {},
   "outputs": [
    {
     "data": {
      "text/plain": [
       "dict_keys(['memory', 'steps', 'LDA', 'LDA__n_components', 'LDA__priors', 'LDA__shrinkage', 'LDA__solver', 'LDA__store_covariance', 'LDA__tol'])"
      ]
     },
     "execution_count": 89,
     "metadata": {},
     "output_type": "execute_result"
    }
   ],
   "source": [
    "# We will use sklearn and Linear Discriminant analysis , which refere to model of Gaussian DA with fixed covariance\n",
    "# After we will use Quadratique DA in the case of different covariance\n",
    "\n",
    "from sklearn.discriminant_analysis import LinearDiscriminantAnalysis\n",
    "\n",
    "full_pipeline = Pipeline([\n",
    "    (\"LDA\", LinearDiscriminantAnalysis()),\n",
    "])\n",
    "\n",
    "full_pipeline.fit(rets,dire)\n",
    "\n",
    "full_pipeline.get_params().keys()"
   ]
  },
  {
   "cell_type": "code",
   "execution_count": 109,
   "metadata": {},
   "outputs": [
    {
     "name": "stdout",
     "output_type": "stream",
     "text": [
      "Fitting 5 folds for each of 2 candidates, totalling 10 fits\n"
     ]
    },
    {
     "name": "stderr",
     "output_type": "stream",
     "text": [
      "[Parallel(n_jobs=4)]: Done  10 out of  10 | elapsed:    2.1s finished\n"
     ]
    },
    {
     "data": {
      "text/plain": [
       "RandomizedSearchCV(cv=5, error_score='raise',\n",
       "          estimator=Pipeline(memory=None,\n",
       "     steps=[('LDA', LinearDiscriminantAnalysis(n_components=None, priors=None, shrinkage=None,\n",
       "              solver='svd', store_covariance=False, tol=0.0001))]),\n",
       "          fit_params=None, iid=True, n_iter=2, n_jobs=4,\n",
       "          param_distributions={'LDA__priors': [None], 'LDA__solver': ['svd'], 'LDA__shrinkage': [None], 'LDA__store_covariance': [True, False]},\n",
       "          pre_dispatch='2*n_jobs', random_state=42, refit=True,\n",
       "          return_train_score='warn', scoring='neg_mean_squared_error',\n",
       "          verbose=2)"
      ]
     },
     "execution_count": 109,
     "metadata": {},
     "output_type": "execute_result"
    }
   ],
   "source": [
    "from sklearn.model_selection import GridSearchCV\n",
    "from sklearn.model_selection import RandomizedSearchCV\n",
    "\n",
    "#Let's do a random search to get the best param\n",
    "param_distribs = {\n",
    "        'LDA__priors': [None],\n",
    "        'LDA__solver': ['svd'],\n",
    "        'LDA__shrinkage': [None],\n",
    "        'LDA__store_covariance':[True,False]\n",
    "    }\n",
    "\n",
    "rnd_search = RandomizedSearchCV(full_pipeline, param_distributions=param_distribs,\n",
    "                                n_iter=2, cv=5, scoring='neg_mean_squared_error',\n",
    "                                verbose=2, n_jobs=4, random_state=42)\n",
    "rnd_search.fit(rets, dire)"
   ]
  },
  {
   "cell_type": "code",
   "execution_count": 110,
   "metadata": {},
   "outputs": [
    {
     "name": "stdout",
     "output_type": "stream",
     "text": [
      "Scores: 0.5895191568988473\n",
      "Mean: 0.5895191568988473\n",
      "Standard deviation: 0.0\n",
      "Best params: {'LDA__store_covariance': True, 'LDA__solver': 'svd', 'LDA__shrinkage': None, 'LDA__priors': None}\n"
     ]
    }
   ],
   "source": [
    "#display_scores and best parameters\n",
    "\n",
    "negative_mse = rnd_search.best_score_\n",
    "rmse = np.sqrt(-negative_mse)\n",
    "\n",
    "def display_scores_params(scores):\n",
    "    print(\"Scores:\", scores)\n",
    "    print(\"Mean:\", np.sqrt(-rnd_search.cv_results_['mean_test_score']).mean())\n",
    "    print(\"Standard deviation:\", scores.std())\n",
    "    print(\"Best params:\", rnd_search.best_params_)\n",
    "    \n",
    "display_scores_params(rmse)"
   ]
  },
  {
   "cell_type": "code",
   "execution_count": 111,
   "metadata": {},
   "outputs": [
    {
     "name": "stdout",
     "output_type": "stream",
     "text": [
      "CV test scores : [0.55862039 0.56336124 0.64686916 0.67503612 0.5999409  0.569621\n",
      " 0.57888374 0.57063366 0.56120105 0.56436277]\n",
      "rmse(mean, std): (0.590095, 0.216844)\n",
      "training rmse:  0.5893685965191989\n"
     ]
    }
   ],
   "source": [
    "final_predict = full_pipeline.predict(rets)\n",
    "\n",
    "from sklearn.model_selection import cross_val_score\n",
    "from sklearn.metrics import mean_squared_error\n",
    "\n",
    "final_scores = cross_val_score(full_pipeline, rets, dire, scoring=\"neg_mean_squared_error\", cv=10)\n",
    "\n",
    "print(\"CV test scores :\", np.sqrt(-final_scores))\n",
    "print (\"rmse(mean, std): (%lf, %lf)\" % (np.sqrt(-final_scores.mean()), np.sqrt(final_scores.std())))\n",
    "print (\"training rmse: \" ,np.sqrt(mean_squared_error(dire, final_predict)))"
   ]
  },
  {
   "cell_type": "markdown",
   "metadata": {},
   "source": [
    "=> The model doesn't do better than logistic model, it maybe a consequence of stronger assumption that both categories behave like a normal distribution\n",
    "\n",
    "=> Will try the Quadratique DA to compare"
   ]
  },
  {
   "cell_type": "markdown",
   "metadata": {},
   "source": [
    "#### QDA"
   ]
  },
  {
   "cell_type": "code",
   "execution_count": 112,
   "metadata": {},
   "outputs": [
    {
     "data": {
      "text/plain": [
       "dict_keys(['memory', 'steps', 'QDA', 'QDA__priors', 'QDA__reg_param', 'QDA__store_covariance', 'QDA__store_covariances', 'QDA__tol'])"
      ]
     },
     "execution_count": 112,
     "metadata": {},
     "output_type": "execute_result"
    }
   ],
   "source": [
    "from sklearn.discriminant_analysis import QuadraticDiscriminantAnalysis\n",
    "\n",
    "full_pipeline = Pipeline([\n",
    "    (\"QDA\", QuadraticDiscriminantAnalysis()),\n",
    "])\n",
    "\n",
    "full_pipeline.fit(rets,dire)\n",
    "\n",
    "full_pipeline.get_params().keys()"
   ]
  },
  {
   "cell_type": "code",
   "execution_count": 113,
   "metadata": {},
   "outputs": [
    {
     "name": "stdout",
     "output_type": "stream",
     "text": [
      "Fitting 5 folds for each of 2 candidates, totalling 10 fits\n"
     ]
    },
    {
     "name": "stderr",
     "output_type": "stream",
     "text": [
      "[Parallel(n_jobs=4)]: Done  10 out of  10 | elapsed:    2.0s finished\n"
     ]
    },
    {
     "data": {
      "text/plain": [
       "RandomizedSearchCV(cv=5, error_score='raise',\n",
       "          estimator=Pipeline(memory=None,\n",
       "     steps=[('QDA', QuadraticDiscriminantAnalysis(priors=None, reg_param=0.0,\n",
       "               store_covariance=False, store_covariances=None, tol=0.0001))]),\n",
       "          fit_params=None, iid=True, n_iter=2, n_jobs=4,\n",
       "          param_distributions={'QDA__priors': [None, [0, 1]], 'QDA__reg_param': [0.1, 0.5, 1, 5, 10], 'QDA__store_covariance': [True, False]},\n",
       "          pre_dispatch='2*n_jobs', random_state=42, refit=True,\n",
       "          return_train_score='warn', scoring='neg_mean_squared_error',\n",
       "          verbose=2)"
      ]
     },
     "execution_count": 113,
     "metadata": {},
     "output_type": "execute_result"
    }
   ],
   "source": [
    "from sklearn.model_selection import GridSearchCV\n",
    "from sklearn.model_selection import RandomizedSearchCV\n",
    "\n",
    "#Let's do a random search to get the best param\n",
    "param_distribs = {\n",
    "        'QDA__priors': [None,[0,1]],\n",
    "        'QDA__reg_param': [0.1,0.5,1,5,10],\n",
    "        'QDA__store_covariance': [True,False],\n",
    "    }\n",
    "\n",
    "rnd_search = RandomizedSearchCV(full_pipeline, param_distributions=param_distribs,\n",
    "                                n_iter=2, cv=5, scoring='neg_mean_squared_error',\n",
    "                                verbose=2, n_jobs=4, random_state=42)\n",
    "rnd_search.fit(rets, dire)"
   ]
  },
  {
   "cell_type": "code",
   "execution_count": 114,
   "metadata": {},
   "outputs": [
    {
     "name": "stdout",
     "output_type": "stream",
     "text": [
      "Scores: 0.6043858164471356\n",
      "Mean: 0.6594916723072985\n",
      "Standard deviation: 0.0\n",
      "Best params: {'QDA__store_covariance': True, 'QDA__reg_param': 0.1, 'QDA__priors': None}\n"
     ]
    }
   ],
   "source": [
    "#display_scores and best parameters\n",
    "\n",
    "negative_mse = rnd_search.best_score_\n",
    "rmse = np.sqrt(-negative_mse)\n",
    "\n",
    "def display_scores_params(scores):\n",
    "    print(\"Scores:\", scores)\n",
    "    print(\"Mean:\", np.sqrt(-rnd_search.cv_results_['mean_test_score']).mean())\n",
    "    print(\"Standard deviation:\", scores.std())\n",
    "    print(\"Best params:\", rnd_search.best_params_)\n",
    "    \n",
    "display_scores_params(rmse)"
   ]
  },
  {
   "cell_type": "code",
   "execution_count": 115,
   "metadata": {},
   "outputs": [
    {
     "name": "stdout",
     "output_type": "stream",
     "text": [
      "CV test scores : [0.55383896 0.569621   0.64412236 0.66976232 0.59697821 0.58041316\n",
      " 0.59549133 0.55802142 0.56278413 0.57063366]\n",
      "rmse(mean, std): (0.591294, 0.211151)\n",
      "training rmse:  0.5875588626770948\n"
     ]
    }
   ],
   "source": [
    "final_predict = full_pipeline.predict(rets)\n",
    "\n",
    "from sklearn.model_selection import cross_val_score\n",
    "from sklearn.metrics import mean_squared_error\n",
    "\n",
    "final_scores = cross_val_score(full_pipeline, rets, dire, scoring=\"neg_mean_squared_error\", cv=10)\n",
    "\n",
    "print(\"CV test scores :\", np.sqrt(-final_scores))\n",
    "print (\"rmse(mean, std): (%lf, %lf)\" % (np.sqrt(-final_scores.mean()), np.sqrt(final_scores.std())))\n",
    "print (\"training rmse: \" ,np.sqrt(mean_squared_error(dire, final_predict)))"
   ]
  },
  {
   "cell_type": "markdown",
   "metadata": {},
   "source": [
    "=> It doesn't perform well, so we will not investigate more at the moment\n",
    "\n",
    "=> If we consider the logic, and as we saw from the plot that returns can not be separated from a linear bound\n",
    " maybe if we map those points in higher dimension with kernels, we will be able to get a better separation, so a Support Vector Machine algorithm might be a good option"
   ]
  },
  {
   "cell_type": "markdown",
   "metadata": {},
   "source": [
    "# 4] SVM with kernel mapping"
   ]
  },
  {
   "cell_type": "code",
   "execution_count": 130,
   "metadata": {},
   "outputs": [
    {
     "data": {
      "text/plain": [
       "dict_keys(['memory', 'steps', 'SVC', 'SVC__C', 'SVC__cache_size', 'SVC__class_weight', 'SVC__coef0', 'SVC__decision_function_shape', 'SVC__degree', 'SVC__gamma', 'SVC__kernel', 'SVC__max_iter', 'SVC__probability', 'SVC__random_state', 'SVC__shrinking', 'SVC__tol', 'SVC__verbose'])"
      ]
     },
     "execution_count": 130,
     "metadata": {},
     "output_type": "execute_result"
    }
   ],
   "source": [
    "from scipy.stats import expon, reciprocal\n",
    "from sklearn.svm import SVC\n",
    "\n",
    "full_pipeline = Pipeline([\n",
    "    (\"SVC\", SVC()),\n",
    "])\n",
    "\n",
    "full_pipeline.fit(rets,dire)\n",
    "\n",
    "full_pipeline.get_params().keys()"
   ]
  },
  {
   "cell_type": "code",
   "execution_count": 134,
   "metadata": {},
   "outputs": [
    {
     "name": "stdout",
     "output_type": "stream",
     "text": [
      "Fitting 5 folds for each of 6 candidates, totalling 30 fits\n"
     ]
    },
    {
     "name": "stderr",
     "output_type": "stream",
     "text": [
      "[Parallel(n_jobs=4)]: Done  30 out of  30 | elapsed:   17.9s finished\n"
     ]
    },
    {
     "data": {
      "text/plain": [
       "RandomizedSearchCV(cv=5, error_score='raise',\n",
       "          estimator=Pipeline(memory=None,\n",
       "     steps=[('SVC', SVC(C=1.0, cache_size=200, class_weight=None, coef0=0.0,\n",
       "  decision_function_shape='ovr', degree=3, gamma='auto', kernel='rbf',\n",
       "  max_iter=-1, probability=False, random_state=None, shrinking=True,\n",
       "  tol=0.001, verbose=False))]),\n",
       "          fit_params=None, iid=True, n_iter=6, n_jobs=4,\n",
       "          param_distributions={'SVC__kernel': ['poly', 'rbf', 'sigmoid'], 'SVC__C': [0.001, 0.5, 1, 5, 10]},\n",
       "          pre_dispatch='2*n_jobs', random_state=42, refit=True,\n",
       "          return_train_score='warn', scoring='neg_mean_squared_error',\n",
       "          verbose=2)"
      ]
     },
     "execution_count": 134,
     "metadata": {},
     "output_type": "execute_result"
    }
   ],
   "source": [
    "\n",
    "#Let's do a random search to get the best param\n",
    "param_distribs = {\n",
    "        'SVC__kernel': ['poly', 'rbf','sigmoid'],\n",
    "        'SVC__C': [0.001,0.5,1,5,10],\n",
    "        #'SVC__gamma': expon(scale=1.0),\n",
    "    }\n",
    "\n",
    "rnd_search = RandomizedSearchCV(full_pipeline, param_distributions=param_distribs,\n",
    "                                n_iter=6, cv=5, scoring='neg_mean_squared_error',\n",
    "                                verbose=2, n_jobs=4, random_state=42)\n",
    "rnd_search.fit(rets, dire)"
   ]
  },
  {
   "cell_type": "code",
   "execution_count": 135,
   "metadata": {},
   "outputs": [
    {
     "name": "stdout",
     "output_type": "stream",
     "text": [
      "Scores: 0.6078997170814352\n",
      "Mean: 0.6386125769990352\n",
      "Standard deviation: 0.0\n",
      "Best params: {'SVC__kernel': 'rbf', 'SVC__C': 10}\n"
     ]
    }
   ],
   "source": [
    "#display_scores and best parameters\n",
    "\n",
    "negative_mse = rnd_search.best_score_\n",
    "rmse = np.sqrt(-negative_mse)\n",
    "\n",
    "def display_scores_params(scores):\n",
    "    print(\"Scores:\", scores)\n",
    "    print(\"Mean:\", np.sqrt(-rnd_search.cv_results_['mean_test_score']).mean())\n",
    "    print(\"Standard deviation:\", scores.std())\n",
    "    print(\"Best params:\", rnd_search.best_params_)\n",
    "    \n",
    "display_scores_params(rmse)"
   ]
  },
  {
   "cell_type": "code",
   "execution_count": 136,
   "metadata": {},
   "outputs": [
    {
     "name": "stdout",
     "output_type": "stream",
     "text": [
      "CV test scores : [0.57888374 0.58041316 0.69317852 0.69827548 0.63301597 0.58345997\n",
      " 0.56336124 0.57991287 0.581445   0.59505674]\n",
      "rmse(mean, std): (0.610496, 0.243702)\n",
      "training rmse:  0.6043858164471356\n"
     ]
    }
   ],
   "source": [
    "final_predict = full_pipeline.predict(rets)\n",
    "\n",
    "from sklearn.model_selection import cross_val_score\n",
    "from sklearn.metrics import mean_squared_error\n",
    "\n",
    "final_scores = cross_val_score(full_pipeline, rets, dire, scoring=\"neg_mean_squared_error\", cv=10)\n",
    "\n",
    "print(\"CV test scores :\", np.sqrt(-final_scores))\n",
    "print (\"rmse(mean, std): (%lf, %lf)\" % (np.sqrt(-final_scores.mean()), np.sqrt(final_scores.std())))\n",
    "print (\"training rmse: \" ,np.sqrt(mean_squared_error(dire, final_predict)))"
   ]
  },
  {
   "cell_type": "code",
   "execution_count": 137,
   "metadata": {},
   "outputs": [
    {
     "name": "stdout",
     "output_type": "stream",
     "text": [
      "CV test scores : [0.57888374 0.58041316 0.69317852 0.69827548 0.63301597 0.58345997\n",
      " 0.56336124 0.57991287 0.581445   0.59505674]\n",
      "rmse(mean, std): (0.610496, 0.243702)\n",
      "training rmse:  0.6043858164471356\n"
     ]
    }
   ],
   "source": [
    "final_predict = full_pipeline.predict(rets)\n",
    "\n",
    "from sklearn.model_selection import cross_val_score\n",
    "from sklearn.metrics import mean_squared_error\n",
    "\n",
    "final_scores = cross_val_score(full_pipeline, rets, dire, scoring=\"neg_mean_squared_error\", cv=10)\n",
    "\n",
    "print(\"CV test scores :\", np.sqrt(-final_scores))\n",
    "print (\"rmse(mean, std): (%lf, %lf)\" % (np.sqrt(-final_scores.mean()), np.sqrt(final_scores.std())))\n",
    "print (\"training rmse: \" ,np.sqrt(mean_squared_error(dire, final_predict)))"
   ]
  },
  {
   "cell_type": "code",
   "execution_count": null,
   "metadata": {},
   "outputs": [],
   "source": [
    "=> That's our best model ! We need to study it further'"
   ]
  }
 ],
 "metadata": {
  "anaconda-cloud": {},
  "kernelspec": {
   "display_name": "Python 3",
   "language": "python",
   "name": "python3"
  },
  "language_info": {
   "codemirror_mode": {
    "name": "ipython",
    "version": 3
   },
   "file_extension": ".py",
   "mimetype": "text/x-python",
   "name": "python",
   "nbconvert_exporter": "python",
   "pygments_lexer": "ipython3",
   "version": "3.6.4"
  }
 },
 "nbformat": 4,
 "nbformat_minor": 1
}
