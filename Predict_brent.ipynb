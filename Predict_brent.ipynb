{
 "cells": [
  {
   "cell_type": "markdown",
   "metadata": {},
   "source": [
    "# Predict direction of market using past information"
   ]
  },
  {
   "cell_type": "markdown",
   "metadata": {},
   "source": [
    "## Use returns of Brent crude oil in D-1,2,3,4,5 and number of moving average to predict if D day return is UP or DOWN\n",
    "\n",
    "Traders usually like to ask the 1 million dollar question : Is the market going UP or DOWN today ?\n",
    "\n",
    "The analyst gathers all arguments possible to answer but in fact he will give the most probable situation. Sometimes if market has strong move during one day, it might correct the day after, put another way we have higher chance of market going down after a day up, vice e versa. In the oil markets for example, the weekly stock reports in US are released 3 times during the week : 1st by poll of analysts on Monday, then API on Tuesday and finally Thursday from the governemental agency EIA. We know that markets nowadays believe more information coming from the latter institution, and if analysts and API miss estimation, we might have opposite direction in market too.\n",
    "\n",
    "Even if this is not true it is interesting to study the correlation of past returns and impact on next day return for a commodity asset class.\n",
    "\n",
    "The motivation for this work comes the need to have a 1st opinion in the morning where the market should go, and express it in term of probability.\n",
    "\n",
    "I have based my work with a book \"An Introduction to Statistical Learning, with R\" from Gareth James , Daniela Witten, Trevor Hastie , Robert Tibshirani\n",
    "\n",
    "I have used python libraries scikit learn, stasmodels and matplotlib.\n",
    "\n",
    "A) Correlation study\n",
    "\n",
    "B) Logistic regression model\n",
    "\n",
    "C) Cross Validation with k-fold method\n",
    "\n",
    "D) Possible extension LDA, QDA and k NN\n"
   ]
  },
  {
   "cell_type": "code",
   "execution_count": 1,
   "metadata": {},
   "outputs": [
    {
     "name": "stderr",
     "output_type": "stream",
     "text": [
      "C:\\Users\\user\\Anaconda2\\lib\\site-packages\\statsmodels\\compat\\pandas.py:56: FutureWarning: The pandas.core.datetools module is deprecated and will be removed in a future version. Please use the pandas.tseries module instead.\n",
      "  from pandas.core import datetools\n"
     ]
    }
   ],
   "source": [
    "import numpy as np\n",
    "import pandas as pd\n",
    "from pandas import Series,DataFrame\n",
    "\n",
    "import math\n",
    "\n",
    "import matplotlib.pyplot as plt\n",
    "import seaborn as sns\n",
    "sns.set_style('whitegrid')\n",
    "%matplotlib inline\n",
    "\n",
    "from sklearn.linear_model import LogisticRegression\n",
    "\n",
    "from sklearn import metrics\n",
    "\n",
    "import statsmodels.api as sm\n",
    "import statsmodels.formula.api as smf\n",
    "from statsmodels.formula.api import ols\n"
   ]
  },
  {
   "cell_type": "code",
   "execution_count": 10,
   "metadata": {},
   "outputs": [
    {
     "name": "stderr",
     "output_type": "stream",
     "text": [
      "C:\\Users\\user\\Anaconda2\\lib\\site-packages\\ipykernel_launcher.py:3: RuntimeWarning: divide by zero encountered in log\n",
      "  This is separate from the ipykernel package so we can avoid doing imports until\n",
      "C:\\Users\\user\\Anaconda2\\lib\\site-packages\\ipykernel_launcher.py:3: RuntimeWarning: invalid value encountered in multiply\n",
      "  This is separate from the ipykernel package so we can avoid doing imports until\n"
     ]
    },
    {
     "data": {
      "text/plain": [
       "[<matplotlib.lines.Line2D at 0xa7f6b30>]"
      ]
     },
     "execution_count": 10,
     "metadata": {},
     "output_type": "execute_result"
    },
    {
     "data": {
      "image/png": "[encoded data removed]",
      "text/plain": [
       "<matplotlib.figure.Figure at 0x2dec0b0>"
      ]
     },
     "metadata": {},
     "output_type": "display_data"
    }
   ],
   "source": []
  },
  {
   "cell_type": "markdown",
   "metadata": {},
   "source": [
    "## A) Prepare variables"
   ]
  },
  {
   "cell_type": "code",
   "execution_count": 360,
   "metadata": {
    "scrolled": true
   },
   "outputs": [
    {
     "name": "stderr",
     "output_type": "stream",
     "text": [
      "C:\\Users\\user\\Anaconda2\\lib\\site-packages\\ipykernel_launcher.py:37: RuntimeWarning: invalid value encountered in sign\n"
     ]
    }
   ],
   "source": [
    "# we read data from csv\n",
    "brent = pd.read_csv('dataBrent.csv',sep=',', parse_dates=[0], index_col=0,infer_datetime_format=True)\n",
    "brent = brent.fillna(float('nan'))\n",
    "\n",
    "# We take first 6 lines out of sample and convert all data into numeric\n",
    "brent = brent.iloc[6::]\n",
    "brent.index.names = ['Date']\n",
    "brent = brent.apply(pd.to_numeric)\n",
    "brent.index = pd.to_datetime(brent.index)\n",
    "\n",
    "# We create the return column\n",
    "brent_rets = brent\n",
    "brent_rets['rets'] = brent['CO1 Comdty'].pct_change()\n",
    "\n",
    "# Let's create all lag in a new column\n",
    "for i in range(5):\n",
    "    brent_rets['lag'+'{}'.format(i+1)]=brent_rets['rets'].shift(i+1)\n",
    "\n",
    "# Create check function, we won't include 0 in the UP market as we consider\n",
    "def UporDown(x):\n",
    "    if x > 0:\n",
    "        return 1\n",
    "    elif x <= 0:\n",
    "        return 0\n",
    "\n",
    "ma_day = [5,10,20,50,100,200]\n",
    "#volumeMA = DataFrame(databrute.sort_index())\n",
    "for ma in ma_day:\n",
    "    column_name = \"MA for %s days\" %(str(ma))\n",
    "    brent_rets[column_name]= brent_rets['CO1 Comdty'].rolling(ma).mean()\n",
    "\n",
    "    \n",
    "\n",
    "brent_rets['Direction'] = brent_rets['rets'].apply(UporDown)\n",
    "# Now we create variable with the number of MA above and below market price by taking the sign  \n",
    "# of the difference Price - MA\n",
    "brent_rets['numberMAabove'] = np.sign(brent_rets['MA for 200 days'] + brent_rets['CO1 Comdty'])+np.sign(brent_rets['MA for 100 days']-brent_rets['CO1 Comdty'] ) +np.sign(brent_rets['MA for 50 days']-brent_rets['CO1 Comdty'])+np.sign(brent_rets['MA for 20 days']-brent_rets['CO1 Comdty'])+np.sign(brent_rets['MA for 10 days']-brent_rets['CO1 Comdty'])+np.sign(brent_rets['MA for 5 days']-brent_rets['CO1 Comdty']) \n"
   ]
  },
  {
   "cell_type": "code",
   "execution_count": 361,
   "metadata": {
    "scrolled": true
   },
   "outputs": [
    {
     "data": {
      "text/html": [
       "<div>\n",
       "<style>\n",
       "    .dataframe thead tr:only-child th {\n",
       "        text-align: right;\n",
       "    }\n",
       "\n",
       "    .dataframe thead th {\n",
       "        text-align: left;\n",
       "    }\n",
       "\n",
       "    .dataframe tbody tr th {\n",
       "        vertical-align: top;\n",
       "    }\n",
       "</style>\n",
       "<table border=\"1\" class=\"dataframe\">\n",
       "  <thead>\n",
       "    <tr style=\"text-align: right;\">\n",
       "      <th></th>\n",
       "      <th>CO1 Comdty</th>\n",
       "      <th>rets</th>\n",
       "      <th>lag1</th>\n",
       "      <th>lag2</th>\n",
       "      <th>lag3</th>\n",
       "      <th>lag4</th>\n",
       "      <th>lag5</th>\n",
       "      <th>Direction</th>\n",
       "      <th>numberMAabove</th>\n",
       "    </tr>\n",
       "    <tr>\n",
       "      <th>Date</th>\n",
       "      <th></th>\n",
       "      <th></th>\n",
       "      <th></th>\n",
       "      <th></th>\n",
       "      <th></th>\n",
       "      <th></th>\n",
       "      <th></th>\n",
       "      <th></th>\n",
       "      <th></th>\n",
       "    </tr>\n",
       "  </thead>\n",
       "  <tbody>\n",
       "    <tr>\n",
       "      <th>2017-12-18</th>\n",
       "      <td>63.41</td>\n",
       "      <td>0.002847</td>\n",
       "      <td>-0.001264</td>\n",
       "      <td>0.013933</td>\n",
       "      <td>-0.014209</td>\n",
       "      <td>-0.020869</td>\n",
       "      <td>0.020347</td>\n",
       "      <td>1.0</td>\n",
       "      <td>-4.0</td>\n",
       "    </tr>\n",
       "    <tr>\n",
       "      <th>2017-12-19</th>\n",
       "      <td>63.80</td>\n",
       "      <td>0.006150</td>\n",
       "      <td>0.002847</td>\n",
       "      <td>-0.001264</td>\n",
       "      <td>0.013933</td>\n",
       "      <td>-0.014209</td>\n",
       "      <td>-0.020869</td>\n",
       "      <td>1.0</td>\n",
       "      <td>-4.0</td>\n",
       "    </tr>\n",
       "    <tr>\n",
       "      <th>2017-12-20</th>\n",
       "      <td>64.56</td>\n",
       "      <td>0.011912</td>\n",
       "      <td>0.006150</td>\n",
       "      <td>0.002847</td>\n",
       "      <td>-0.001264</td>\n",
       "      <td>0.013933</td>\n",
       "      <td>-0.014209</td>\n",
       "      <td>1.0</td>\n",
       "      <td>-4.0</td>\n",
       "    </tr>\n",
       "    <tr>\n",
       "      <th>2017-12-21</th>\n",
       "      <td>64.90</td>\n",
       "      <td>0.005266</td>\n",
       "      <td>0.011912</td>\n",
       "      <td>0.006150</td>\n",
       "      <td>0.002847</td>\n",
       "      <td>-0.001264</td>\n",
       "      <td>0.013933</td>\n",
       "      <td>1.0</td>\n",
       "      <td>-4.0</td>\n",
       "    </tr>\n",
       "    <tr>\n",
       "      <th>2017-12-22</th>\n",
       "      <td>65.25</td>\n",
       "      <td>0.005393</td>\n",
       "      <td>0.005266</td>\n",
       "      <td>0.011912</td>\n",
       "      <td>0.006150</td>\n",
       "      <td>0.002847</td>\n",
       "      <td>-0.001264</td>\n",
       "      <td>1.0</td>\n",
       "      <td>-4.0</td>\n",
       "    </tr>\n",
       "  </tbody>\n",
       "</table>\n",
       "</div>"
      ],
      "text/plain": [
       "            CO1 Comdty      rets      lag1      lag2      lag3      lag4  \\\n",
       "Date                                                                       \n",
       "2017-12-18       63.41  0.002847 -0.001264  0.013933 -0.014209 -0.020869   \n",
       "2017-12-19       63.80  0.006150  0.002847 -0.001264  0.013933 -0.014209   \n",
       "2017-12-20       64.56  0.011912  0.006150  0.002847 -0.001264  0.013933   \n",
       "2017-12-21       64.90  0.005266  0.011912  0.006150  0.002847 -0.001264   \n",
       "2017-12-22       65.25  0.005393  0.005266  0.011912  0.006150  0.002847   \n",
       "\n",
       "                lag5  Direction  numberMAabove  \n",
       "Date                                            \n",
       "2017-12-18  0.020347        1.0           -4.0  \n",
       "2017-12-19 -0.020869        1.0           -4.0  \n",
       "2017-12-20 -0.014209        1.0           -4.0  \n",
       "2017-12-21  0.013933        1.0           -4.0  \n",
       "2017-12-22 -0.001264        1.0           -4.0  "
      ]
     },
     "execution_count": 361,
     "metadata": {},
     "output_type": "execute_result"
    }
   ],
   "source": [
    "# Now we have to drop the MA and take data from 1996 in order to have all value for the new variable numberMAabove\n",
    "brent_rets = brent_rets.drop(['MA for 5 days','MA for 10 days','MA for 20 days','MA for 50 days','MA for 100 days','MA for 200 days','FUT_AGGTE_VOL'],axis=1)\n",
    "\n",
    "brent_rets = brent_rets[brent_rets.index>'1996-01-01']\n",
    "brent_rets.tail()"
   ]
  },
  {
   "cell_type": "code",
   "execution_count": 362,
   "metadata": {
    "scrolled": false
   },
   "outputs": [
    {
     "data": {
      "image/png": "[encoded data removed]",
      "text/plain": [
       "<matplotlib.figure.Figure at 0x29096450>"
      ]
     },
     "metadata": {},
     "output_type": "display_data"
    }
   ],
   "source": [
    "from datetime import datetime\n",
    "import matplotlib.dates as mdates\n",
    "# Let's plot Brent price to understand what is happening in 2017\n",
    "\n",
    "\n",
    "years = mdates.YearLocator()\n",
    "months = mdates.MonthLocator()\n",
    "monthsFmt = mdates.DateFormatter('%b') \n",
    "yearsFmt = mdates.DateFormatter('\\n\\n%Y') \n",
    "\n",
    "fig, ax = plt.subplots(figsize=(12, 8))\n",
    "\n",
    "ax.set_ylabel('USD/bbl', color='black',size=16)\n",
    "ax.grid(which='both', color='0.65',linestyle='--')\n",
    "temp = brent_rets[brent_rets.index>'2017-01-01']\n",
    "ax.plot(temp.index, temp['CO1 Comdty'],'-bo', color='r',alpha=0.5)\n",
    "vals1 = ax.get_yticks()\n",
    "ax.set_yticklabels(['{:5,.1f}'.format(x) for x in vals1])\n",
    "ax.tick_params(labelsize=16)\n",
    "\n",
    "# Let's put Dates in better format with Year and Month\n",
    "ax.xaxis.set_minor_locator(months)\n",
    "ax.xaxis.set_minor_formatter(monthsFmt)\n",
    "plt.setp(ax1.xaxis.get_minorticklabels(), rotation=90)\n",
    "ax.xaxis.set_major_locator(years)\n",
    "ax.xaxis.set_major_formatter(yearsFmt)\n",
    "\n",
    "\n",
    "ax.legend(loc='lower left',prop={'size':20})\n",
    "\n",
    "plt.title(\"Brent Futures 1st nearby 2017\",size=24);"
   ]
  },
  {
   "cell_type": "markdown",
   "metadata": {},
   "source": [
    " \n",
    " We can see a 1H 2017 is a down trend with a low in June. \n",
    " After we have an uptrend until December, we will use this set to validate the modele trained from 1995 to 2016,\n",
    " as it reflects the most recent behavior of crude oil market.\n",
    " \n",
    " Market saw stocks rising at the beggining of 2017, with agreement of OPEC in Nov 2016 to cut production at 32.5mio bbls, agreement which excluded Nigeria and Libya. Market was disappointed as commitment of countries was not at expectation and de facto some countries did not comply at 100%.\n",
    " \n",
    " This coincides with expectation of OPEC meeting on Nov 30 to extend production cut into 2018 \n",
    " Global oil stocks are decreasing and expected to be below 5 years moving average in March 2018\n",
    " \n",
    " \n",
    " \n",
    " \n",
    " \n",
    " \n",
    " \n",
    " \n",
    " \n",
    " \n",
    " \n",
    " \n",
    " \n",
    " \n",
    " \n",
    " "
   ]
  },
  {
   "cell_type": "code",
   "execution_count": 363,
   "metadata": {
    "scrolled": false
   },
   "outputs": [
    {
     "data": {
      "image/png": "[encoded data removed]",
      "text/plain": [
       "<matplotlib.figure.Figure at 0x1070cb90>"
      ]
     },
     "metadata": {},
     "output_type": "display_data"
    }
   ],
   "source": [
    "# Let's see correlation btw lag returns\n",
    "\n",
    "test = brent_rets.copy()\n",
    "test = test.drop('Direction',1)\n",
    "#test = test.drop('Weekday',1)\n",
    "\n",
    "\n",
    "# Compute the correlation matrix\n",
    "corr = test.dropna().corr()\n",
    "\n",
    "# Generate a mask for the upper triangle\n",
    "mask = np.zeros_like(corr, dtype=np.bool)\n",
    "mask[np.triu_indices_from(mask)] = True\n",
    "\n",
    "# Set up the matplotlib figure\n",
    "f, ax = plt.subplots(figsize=(11, 9))\n",
    "\n",
    "# Generate a custom diverging colormap\n",
    "cmap = sns.diverging_palette(220, 10, as_cmap=True)\n",
    "\n",
    "# Draw the heatmap with the mask and correct aspect ratio\n",
    "sns.heatmap(corr, mask=mask, cmap=cmap, vmax=.3, center=0,\n",
    "            square=True, linewidths=.5, cbar_kws={\"shrink\": .5});\n"
   ]
  },
  {
   "cell_type": "markdown",
   "metadata": {},
   "source": [
    "We can see clearly that number of moving averages has a negative correlation with return of Brent price.\n",
    "This goes against the naive opinion which states that when prices trend above or under its moving average,\n",
    "it tends to correct and revert toward moving average."
   ]
  },
  {
   "cell_type": "code",
   "execution_count": 364,
   "metadata": {},
   "outputs": [
    {
     "data": {
      "text/html": [
       "<div>\n",
       "<style>\n",
       "    .dataframe thead tr:only-child th {\n",
       "        text-align: right;\n",
       "    }\n",
       "\n",
       "    .dataframe thead th {\n",
       "        text-align: left;\n",
       "    }\n",
       "\n",
       "    .dataframe tbody tr th {\n",
       "        vertical-align: top;\n",
       "    }\n",
       "</style>\n",
       "<table border=\"1\" class=\"dataframe\">\n",
       "  <thead>\n",
       "    <tr style=\"text-align: right;\">\n",
       "      <th></th>\n",
       "      <th>CO1 Comdty</th>\n",
       "      <th>rets</th>\n",
       "      <th>lag1</th>\n",
       "      <th>lag2</th>\n",
       "      <th>lag3</th>\n",
       "      <th>lag4</th>\n",
       "      <th>lag5</th>\n",
       "      <th>Direction</th>\n",
       "      <th>numberMAabove</th>\n",
       "    </tr>\n",
       "  </thead>\n",
       "  <tbody>\n",
       "    <tr>\n",
       "      <th>count</th>\n",
       "      <td>5618.000000</td>\n",
       "      <td>5618.000000</td>\n",
       "      <td>5618.000000</td>\n",
       "      <td>5618.000000</td>\n",
       "      <td>5618.000000</td>\n",
       "      <td>5618.000000</td>\n",
       "      <td>5618.000000</td>\n",
       "      <td>5618.000000</td>\n",
       "      <td>4679.000000</td>\n",
       "    </tr>\n",
       "    <tr>\n",
       "      <th>mean</th>\n",
       "      <td>56.434751</td>\n",
       "      <td>0.000468</td>\n",
       "      <td>0.000468</td>\n",
       "      <td>0.000466</td>\n",
       "      <td>0.000469</td>\n",
       "      <td>0.000468</td>\n",
       "      <td>0.000467</td>\n",
       "      <td>0.512104</td>\n",
       "      <td>0.545416</td>\n",
       "    </tr>\n",
       "    <tr>\n",
       "      <th>std</th>\n",
       "      <td>33.843335</td>\n",
       "      <td>0.022010</td>\n",
       "      <td>0.022010</td>\n",
       "      <td>0.022010</td>\n",
       "      <td>0.022013</td>\n",
       "      <td>0.022013</td>\n",
       "      <td>0.022013</td>\n",
       "      <td>0.499898</td>\n",
       "      <td>3.820024</td>\n",
       "    </tr>\n",
       "    <tr>\n",
       "      <th>min</th>\n",
       "      <td>9.640000</td>\n",
       "      <td>-0.134434</td>\n",
       "      <td>-0.134434</td>\n",
       "      <td>-0.134434</td>\n",
       "      <td>-0.134434</td>\n",
       "      <td>-0.134434</td>\n",
       "      <td>-0.134434</td>\n",
       "      <td>0.000000</td>\n",
       "      <td>-4.000000</td>\n",
       "    </tr>\n",
       "    <tr>\n",
       "      <th>25%</th>\n",
       "      <td>25.942500</td>\n",
       "      <td>-0.011346</td>\n",
       "      <td>-0.011346</td>\n",
       "      <td>-0.011346</td>\n",
       "      <td>-0.011346</td>\n",
       "      <td>-0.011346</td>\n",
       "      <td>-0.011346</td>\n",
       "      <td>0.000000</td>\n",
       "      <td>-4.000000</td>\n",
       "    </tr>\n",
       "    <tr>\n",
       "      <th>50%</th>\n",
       "      <td>50.820000</td>\n",
       "      <td>0.000747</td>\n",
       "      <td>0.000747</td>\n",
       "      <td>0.000742</td>\n",
       "      <td>0.000742</td>\n",
       "      <td>0.000742</td>\n",
       "      <td>0.000731</td>\n",
       "      <td>1.000000</td>\n",
       "      <td>0.000000</td>\n",
       "    </tr>\n",
       "    <tr>\n",
       "      <th>75%</th>\n",
       "      <td>78.910000</td>\n",
       "      <td>0.011926</td>\n",
       "      <td>0.011926</td>\n",
       "      <td>0.011926</td>\n",
       "      <td>0.011938</td>\n",
       "      <td>0.011938</td>\n",
       "      <td>0.011938</td>\n",
       "      <td>1.000000</td>\n",
       "      <td>4.000000</td>\n",
       "    </tr>\n",
       "    <tr>\n",
       "      <th>max</th>\n",
       "      <td>146.080000</td>\n",
       "      <td>0.137670</td>\n",
       "      <td>0.137670</td>\n",
       "      <td>0.137670</td>\n",
       "      <td>0.137670</td>\n",
       "      <td>0.137670</td>\n",
       "      <td>0.137670</td>\n",
       "      <td>1.000000</td>\n",
       "      <td>6.000000</td>\n",
       "    </tr>\n",
       "  </tbody>\n",
       "</table>\n",
       "</div>"
      ],
      "text/plain": [
       "        CO1 Comdty         rets         lag1         lag2         lag3  \\\n",
       "count  5618.000000  5618.000000  5618.000000  5618.000000  5618.000000   \n",
       "mean     56.434751     0.000468     0.000468     0.000466     0.000469   \n",
       "std      33.843335     0.022010     0.022010     0.022010     0.022013   \n",
       "min       9.640000    -0.134434    -0.134434    -0.134434    -0.134434   \n",
       "25%      25.942500    -0.011346    -0.011346    -0.011346    -0.011346   \n",
       "50%      50.820000     0.000747     0.000747     0.000742     0.000742   \n",
       "75%      78.910000     0.011926     0.011926     0.011926     0.011938   \n",
       "max     146.080000     0.137670     0.137670     0.137670     0.137670   \n",
       "\n",
       "              lag4         lag5    Direction  numberMAabove  \n",
       "count  5618.000000  5618.000000  5618.000000    4679.000000  \n",
       "mean      0.000468     0.000467     0.512104       0.545416  \n",
       "std       0.022013     0.022013     0.499898       3.820024  \n",
       "min      -0.134434    -0.134434     0.000000      -4.000000  \n",
       "25%      -0.011346    -0.011346     0.000000      -4.000000  \n",
       "50%       0.000742     0.000731     1.000000       0.000000  \n",
       "75%       0.011938     0.011938     1.000000       4.000000  \n",
       "max       0.137670     0.137670     1.000000       6.000000  "
      ]
     },
     "execution_count": 364,
     "metadata": {},
     "output_type": "execute_result"
    }
   ],
   "source": [
    "brent_rets.describe()"
   ]
  },
  {
   "cell_type": "markdown",
   "metadata": {},
   "source": [
    "\n",
    "# B) Logistic regression"
   ]
  },
  {
   "cell_type": "code",
   "execution_count": 365,
   "metadata": {
    "collapsed": true,
    "scrolled": true
   },
   "outputs": [],
   "source": [
    "# Create new DataFrames for the Categorical Variables\n",
    "\n",
    "# Set X as new DataFrame without the Direction columns nor the Y target\n",
    "X = brent_rets.drop(['Direction','CO1 Comdty','rets'],axis=1)\n",
    "\n",
    "#X = X.iloc[6::]\n",
    "X.index = Series(range(0,len(X.index)))\n",
    "X = X.fillna(0)\n"
   ]
  },
  {
   "cell_type": "code",
   "execution_count": 366,
   "metadata": {},
   "outputs": [
    {
     "name": "stderr",
     "output_type": "stream",
     "text": [
      "C:\\Users\\user\\Anaconda2\\lib\\site-packages\\ipykernel_launcher.py:6: FutureWarning: convert_objects is deprecated.  Use the data-type specific converters pd.to_datetime, pd.to_timedelta and pd.to_numeric.\n",
      "  \n"
     ]
    },
    {
     "name": "stdout",
     "output_type": "stream",
     "text": [
      "AxesSubplot(0.125,0.125;0.775x0.755)\n"
     ]
    },
    {
     "data": {
      "image/png": "[encoded data removed]",
      "text/plain": [
       "<matplotlib.figure.Figure at 0x290796b0>"
      ]
     },
     "metadata": {},
     "output_type": "display_data"
    }
   ],
   "source": [
    "# Set Y as Target class, returns\n",
    "Y = brent_rets.Direction\n",
    "\n",
    "# Preview\n",
    "Y.head()\n",
    "Y = Y.convert_objects(convert_numeric=True)\n",
    "\n",
    "\n",
    "Y = Y.fillna(0)\n",
    "\n",
    "Y.index = Series(range(0,len(Y.index)))\n",
    "\n",
    "print sns.countplot(Y);\n",
    "\n",
    "# Flatten array\n",
    "Y = np.ravel(Y)\n"
   ]
  },
  {
   "cell_type": "code",
   "execution_count": 385,
   "metadata": {},
   "outputs": [
    {
     "data": {
      "image/png": "[encoded data removed]",
      "text/plain": [
       "<matplotlib.figure.Figure at 0x217e30b0>"
      ]
     },
     "metadata": {},
     "output_type": "display_data"
    }
   ],
   "source": [
    "# let's plot direction of the market with lag1 et lag3 in x and y axis\n",
    "import matplotlib.cm as cm\n",
    "import matplotlib.colors as colors\n",
    "\n",
    "plt.figure(figsize=(10,8))\n",
    "#fig, ax = plt.subplots(figsize=(12,8))\n",
    "#leg = {'1':'Up','0':'Down'}\n",
    "#ax.scatter(X['lag1'],X['numberMAabove'],c=Y,label=leg)\n",
    "\n",
    "plt.scatter(X['lag1'][Y == 1], \n",
    "            # attacker size in year 298 as the y axis\n",
    "            X['numberMAabove'][Y == 1], \n",
    "            # the marker as\n",
    "            marker='x', \n",
    "            # the color\n",
    "            color='black',\n",
    "            # the alpha\n",
    "            alpha=0.7,\n",
    "            # with size\n",
    "            s = 124,\n",
    "            # labelled this\n",
    "            label='UP')\n",
    "\n",
    "plt.scatter(X['lag1'][Y == 0], X['numberMAabove'][Y == 0], \n",
    "            # the marker as\n",
    "            marker='o', \n",
    "            # the color\n",
    "            color='orange',\n",
    "            # the alpha\n",
    "            alpha=0.7,\n",
    "            # with size\n",
    "            s = 70,\n",
    "            # labelled this\n",
    "            label='DOWN')\n",
    "\n",
    "# Chart title\n",
    "plt.title('Market direction with number of MA above Brent vs lag1',size=18)\n",
    "\n",
    "# y label\n",
    "plt.ylabel('number of MA above Brent')\n",
    "\n",
    "# x label\n",
    "plt.xlabel('lag1 return value')\n",
    "\n",
    "# and a legend\n",
    "plt.legend(loc='upper right')\n",
    "plt.show()"
   ]
  },
  {
   "cell_type": "markdown",
   "metadata": {},
   "source": [
    "We can see that when they are 6 moving averages above price of Brent, we don't really see that market went UP or DOWN with specific number of MA above or below current Price."
   ]
  },
  {
   "cell_type": "code",
   "execution_count": 368,
   "metadata": {
    "scrolled": false
   },
   "outputs": [
    {
     "name": "stdout",
     "output_type": "stream",
     "text": [
      "Optimization terminated successfully.\n",
      "         Current function value: 0.603828\n",
      "         Iterations 5\n",
      "                           Logit Regression Results                           \n",
      "==============================================================================\n",
      "Dep. Variable:                      y   No. Observations:                 5634\n",
      "Model:                          Logit   Df Residuals:                     5628\n",
      "Method:                           MLE   Df Model:                            5\n",
      "Date:                Tue, 02 Jan 2018   Pseudo R-squ.:                  0.1286\n",
      "Time:                        15:19:00   Log-Likelihood:                -3402.0\n",
      "converged:                       True   LL-Null:                       -3903.9\n",
      "                                        LLR p-value:                8.644e-215\n",
      "=================================================================================\n",
      "                    coef    std err          z      P>|z|      [0.025      0.975]\n",
      "---------------------------------------------------------------------------------\n",
      "lag1            -22.3037      1.513    -14.741      0.000     -25.269     -19.338\n",
      "lag2            -14.5265      1.451    -10.014      0.000     -17.370     -11.683\n",
      "lag3             -8.0933      1.404     -5.766      0.000     -10.844      -5.342\n",
      "lag4             -6.6829      1.382     -4.835      0.000      -9.392      -3.974\n",
      "lag5             -7.9513      1.376     -5.777      0.000     -10.649      -5.253\n",
      "numberMAabove    -0.3071      0.011    -28.149      0.000      -0.328      -0.286\n",
      "=================================================================================\n"
     ]
    }
   ],
   "source": [
    "# Use statsmodel to summarise and before doing machine learning separation btw train and test sample\n",
    "\n",
    "import statsmodels.api as sm\n",
    "logit_model=sm.Logit(Y,X)\n",
    "result=logit_model.fit()\n",
    "print(result.summary())"
   ]
  },
  {
   "cell_type": "markdown",
   "metadata": {
    "scrolled": true
   },
   "source": [
    "We see different things here:\n",
    "\n",
    "- lag1,2,3,4,5 has all negative coefficient, lag1 and lag2 have bigger coefficient than lag3,4 and 5\n",
    "\n",
    "- numberMAabove is significant in the model as we can see the biggest z value, we can see though that the coefficient is negative, meaning that the more MAs above price will tend to make direction of market down. As z-value are computed as the test statistic for the hypothesis test that the true corresponding regression cofficient equals 0. As lag1,2 and numberMAabove z-values are all outside the confidence inteval at 95%, we can reject H0 hypothesis with 95% conficence and keep those variables\n",
    "\n",
    "- lag3,4 z-values are debatables but we will keep them as we want to keep returns over 1 week past "
   ]
  },
  {
   "cell_type": "code",
   "execution_count": 369,
   "metadata": {},
   "outputs": [
    {
     "name": "stdout",
     "output_type": "stream",
     "text": [
      "Optimization terminated successfully.\n",
      "         Current function value: 0.634077\n",
      "         Iterations 5\n",
      "                           Logit Regression Results                           \n",
      "==============================================================================\n",
      "Dep. Variable:                      y   No. Observations:                 5634\n",
      "Model:                          Logit   Df Residuals:                     5633\n",
      "Method:                           MLE   Df Model:                            0\n",
      "Date:                Tue, 02 Jan 2018   Pseudo R-squ.:                 0.08492\n",
      "Time:                        15:19:03   Log-Likelihood:                -3572.4\n",
      "converged:                       True   LL-Null:                       -3903.9\n",
      "                                        LLR p-value:                       nan\n",
      "=================================================================================\n",
      "                    coef    std err          z      P>|z|      [0.025      0.975]\n",
      "---------------------------------------------------------------------------------\n",
      "numberMAabove    -0.2082      0.009    -24.239      0.000      -0.225      -0.191\n",
      "=================================================================================\n"
     ]
    }
   ],
   "source": [
    "# let's run the model with only 1 variable in order to see that there are no counfounding for the numberMAabove \n",
    "# variable. \n",
    "XX = X.copy(0)\n",
    "YY = Y.copy()\n",
    "XX = XX.drop(['lag1','lag2','lag3','lag4','lag5',],axis=1)\n",
    "\n",
    "import statsmodels.api as sm\n",
    "logit_model=sm.Logit(YY,XX)\n",
    "result=logit_model.fit()\n",
    "print(result.summary())"
   ]
  },
  {
   "cell_type": "markdown",
   "metadata": {},
   "source": [
    "The cofficient of numberMAabove variable is still negative, so we can confirm it has negative impact on the logit\n",
    "or the odds of market going UP"
   ]
  },
  {
   "cell_type": "code",
   "execution_count": 370,
   "metadata": {},
   "outputs": [
    {
     "name": "stdout",
     "output_type": "stream",
     "text": [
      "0.645012424565\n"
     ]
    }
   ],
   "source": [
    "# Now we fit the model to logistic by using Maximum of Likelyhood to determine the coefficient to use in the \n",
    "# logit function\n",
    "\n",
    "# Create LogisticRegression model\n",
    "log_model = LogisticRegression()\n",
    "\n",
    "# Fit our data\n",
    "log_model.fit(X,Y)\n",
    "\n",
    "# Check our accuracy\n",
    "print log_model.score(X,Y)\n"
   ]
  },
  {
   "cell_type": "code",
   "execution_count": 371,
   "metadata": {
    "scrolled": true
   },
   "outputs": [
    {
     "name": "stdout",
     "output_type": "stream",
     "text": [
      "              prob assoc with model\n",
      "xaxis                              \n",
      "6.661338e-16               0.740848\n"
     ]
    },
    {
     "data": {
      "image/png": "[encoded data removed]",
      "text/plain": [
       "<matplotlib.figure.Figure at 0x20b1c8d0>"
      ]
     },
     "metadata": {},
     "output_type": "display_data"
    }
   ],
   "source": [
    "#let's print the log-odds function using lag1 days possiblity\n",
    "\n",
    "# Use zip to bring the column names and the np.transpose function to bring together the coefficients from the model\n",
    "coeff_df = DataFrame(zip(X.columns, np.transpose(log_model.coef_)))\n",
    "  \n",
    "\n",
    "\n",
    "xabs = np.arange(-0.8,0.8 , 0.01)\n",
    "\n",
    "# Let's create empty array with lag1 value in x-axis\n",
    "ligne = []\n",
    "# test will be the array with predictions made for a range of different values for lag1 returns\n",
    "test = []\n",
    "\n",
    "# We create for loop to fill probability of market direction in y-axis according to lag1\n",
    "for i in range(len(xabs)):\n",
    "    ligne.append(np.dot(np.array(log_model.coef_), np.array([xabs[i],brent_rets['rets'][-2], brent_rets['rets'][-3],brent_rets['rets'][-4],brent_rets['rets'][-5],brent_rets['numberMAabove'][-1]])))\n",
    "    test.append([xabs[i],brent_rets['rets'][-2], brent_rets['rets'][-3],brent_rets['rets'][-4],brent_rets['rets'][-5],brent_rets['numberMAabove'][-1]])\n",
    "\n",
    "d = {'xaxis': xabs, 'prob assoc with model': log_model.predict_proba(test)[:,1]}\n",
    "df = pd.DataFrame(data=d)\n",
    "df.index = df['xaxis']\n",
    "df = df.drop(['xaxis'],axis=1)\n",
    "plt.plot(xabs,log_model.predict_proba(test)[:,1])\n",
    "\n",
    "#print df.loc[df['prob assoc with model'] in [-0.07:-0.06]]\n",
    "print df.loc[0:0.01]"
   ]
  },
  {
   "cell_type": "markdown",
   "metadata": {},
   "source": [
    " We see that model is very narrow around 70 to 80% probability range. outside those levels we have returns for higher than 20%, which is not realistic for market situation in Brent crude oil."
   ]
  },
  {
   "cell_type": "code",
   "execution_count": 372,
   "metadata": {},
   "outputs": [
    {
     "name": "stdout",
     "output_type": "stream",
     "text": [
      "       prob assoc with number of MA above and below\n",
      "xaxis                                              \n",
      "0                                          0.514437\n"
     ]
    },
    {
     "data": {
      "image/png": "[encoded data removed]",
      "text/plain": [
       "<matplotlib.figure.Figure at 0x238eae50>"
      ]
     },
     "metadata": {},
     "output_type": "display_data"
    }
   ],
   "source": [
    "# Use zip to bring the column names and the np.transpose function to bring together the coefficients from the model\n",
    "coeff_df = DataFrame(zip(X.columns, np.transpose(log_model.coef_)))\n",
    "\n",
    "xabs = np.arange(-6,7,1)\n",
    "# Let's create empty array with lag1 value in x-axis\n",
    "ligne = []\n",
    "# test will be the array with predictions made for a range of different values for lag1 returns\n",
    "test = []\n",
    "\n",
    "# We create for loop to fill probability of market direction in y-axis according to lag1\n",
    "for i in range(len(xabs)):\n",
    "    ligne.append(np.dot(np.array(log_model.coef_), np.array([xabs[i],brent_rets['rets'][-2], brent_rets['rets'][-3],brent_rets['rets'][-4],brent_rets['rets'][-5],xabs[i]])))\n",
    "    test.append([brent_rets['rets'][-1],brent_rets['rets'][-2], brent_rets['rets'][-3],brent_rets['rets'][-4],brent_rets['rets'][-5],xabs[i]])\n",
    "\n",
    "d = {'xaxis': xabs, 'prob assoc with number of MA above and below': log_model.predict_proba(test)[:,1]}\n",
    "df = pd.DataFrame(data=d)\n",
    "df.index = df['xaxis']\n",
    "df = df.drop(['xaxis'],axis=1)\n",
    "plt.plot(xabs,log_model.predict_proba(test)[:,1])\n",
    "\n",
    "#print df.loc[df['prob assoc with model'] in [-0.07:-0.06]]\n",
    "print df.loc[0:0.01]"
   ]
  },
  {
   "cell_type": "markdown",
   "metadata": {},
   "source": [
    "We can see that according to the number of MA above or below the probability for market of going up or down \n",
    "ranges from 20% in situation where Brent is overbought with 6 MA on top and it needs to continue to drift higher. \n",
    "On the otherside, when market is oversold, with 6 moving averages above, we see the probability of going uponly at 80%.\n"
   ]
  },
  {
   "cell_type": "code",
   "execution_count": 373,
   "metadata": {},
   "outputs": [
    {
     "data": {
      "text/plain": [
       "array([[ 0.26622882,  0.73377118]])"
      ]
     },
     "execution_count": 373,
     "metadata": {},
     "output_type": "execute_result"
    }
   ],
   "source": [
    "# Now let's calculate the probability that market will go up on Monday\n",
    "\n",
    "last5days = [brent_rets['rets'][-1],brent_rets['rets'][-2], brent_rets['rets'][-3],brent_rets['rets'][-4],brent_rets['rets'][-5],brent_rets['numberMAabove'][-1]]\n",
    "last5days = np.array(last5days)\n",
    "last5days = last5days.reshape(1,-1)\n",
    "log_model.predict_proba(last5days)"
   ]
  },
  {
   "cell_type": "code",
   "execution_count": 374,
   "metadata": {},
   "outputs": [
    {
     "data": {
      "text/plain": [
       "array([ 0.,  1.])"
      ]
     },
     "execution_count": 374,
     "metadata": {},
     "output_type": "execute_result"
    }
   ],
   "source": [
    "log_model.classes_"
   ]
  },
  {
   "cell_type": "markdown",
   "metadata": {},
   "source": [
    "We conclude that direction of market will go up on Tuesday 27th of December, as probabiity is 73.3% \n",
    "and superior at 50%"
   ]
  },
  {
   "cell_type": "markdown",
   "metadata": {},
   "source": [
    "Now let's split data with training and test in order to calculate a error sample if we consider that all probability above 50% will be UPside market"
   ]
  },
  {
   "cell_type": "code",
   "execution_count": 321,
   "metadata": {
    "scrolled": false
   },
   "outputs": [
    {
     "data": {
      "text/plain": [
       "LogisticRegression(C=1.0, class_weight=None, dual=False, fit_intercept=True,\n",
       "          intercept_scaling=1, max_iter=100, multi_class='ovr', n_jobs=1,\n",
       "          penalty='l2', random_state=None, solver='liblinear', tol=0.0001,\n",
       "          verbose=0, warm_start=False)"
      ]
     },
     "execution_count": 321,
     "metadata": {},
     "output_type": "execute_result"
    }
   ],
   "source": [
    "#let's train our data before 2017\n",
    "X_train = brent_rets.drop(['Direction','CO1 Comdty','rets'],axis=1)\n",
    "#X_train = X_train.iloc[6::]\n",
    "X_train = X_train[X_train.index<'2017-01-01']\n",
    "X_train.index = Series(range(0,len(X_train.index)))\n",
    "X_train = X_train.fillna(0)\n",
    "\n",
    "# Now the Direction\n",
    "Y_train = brent_rets[brent_rets.index<'2017-01-01'].Direction\n",
    "#Y_train = Y_train.iloc[6::]\n",
    "Y_train = Y_train.fillna(0)\n",
    "Y_train.index = Series(range(0,len(Y_train.index)))\n",
    "# Flatten array\n",
    "Y_train = np.ravel(Y_train)\n",
    "\n",
    "\n",
    "# Now let's do the test set\n",
    "X_test = brent_rets.drop(['Direction','CO1 Comdty','rets'],axis=1)\n",
    "X_test = X_test[X_test.index>='2017-01-01']\n",
    "X_test.index = Series(range(0,len(X_test.index)))\n",
    "X_test = X_test.fillna(0)\n",
    "\n",
    "# Now the Direction\n",
    "Y_test = brent_rets[brent_rets.index>='2017-01-01'].Direction\n",
    "Y_test = Y_test.fillna(0)\n",
    "Y_test.index = Series(range(0,len(Y_test.index)))\n",
    "# Flatten array\n",
    "Y_test = np.ravel(Y_test)\n",
    "\n",
    "\n",
    "# Make a new log_model\n",
    "log_model2 = LogisticRegression()\n",
    "\n",
    "# Now fit the new model\n",
    "log_model2.fit(X_train, Y_train)\n"
   ]
  },
  {
   "cell_type": "code",
   "execution_count": 322,
   "metadata": {},
   "outputs": [
    {
     "name": "stdout",
     "output_type": "stream",
     "text": [
      "0.640316205534\n"
     ]
    }
   ],
   "source": [
    "# Predict the classes of the testing data set\n",
    "class_predict = log_model2.predict(X_test)\n",
    "\n",
    "# Compare the predicted classes to the actual test classes\n",
    "print metrics.accuracy_score(Y_test,class_predict)"
   ]
  },
  {
   "cell_type": "markdown",
   "metadata": {},
   "source": [
    "It looks like we have a accuracy rate better than the naive approach in 2017 returns , at 64% we can predict that market will go UP or DOWN, which is not bad. Let's see what this model gives for Tuesday 27th "
   ]
  },
  {
   "cell_type": "code",
   "execution_count": 375,
   "metadata": {},
   "outputs": [
    {
     "data": {
      "text/plain": [
       "array([[ 0.26646324,  0.73353676]])"
      ]
     },
     "execution_count": 375,
     "metadata": {},
     "output_type": "execute_result"
    }
   ],
   "source": [
    "log_model2.predict_proba(last5days)"
   ]
  },
  {
   "cell_type": "markdown",
   "metadata": {},
   "source": [
    "So we have a 73.3% chance that market will go UP on December 27th. ( In reality it went down on that day ;) ! )"
   ]
  },
  {
   "cell_type": "code",
   "execution_count": 324,
   "metadata": {},
   "outputs": [
    {
     "name": "stdout",
     "output_type": "stream",
     "text": [
      "(59, 51, 40, 103)\n"
     ]
    },
    {
     "data": {
      "text/plain": [
       "array([[ 59,  51],\n",
       "       [ 40, 103]], dtype=int64)"
      ]
     },
     "execution_count": 324,
     "metadata": {},
     "output_type": "execute_result"
    }
   ],
   "source": [
    "from sklearn.metrics import confusion_matrix\n",
    "\n",
    "tn, fp, fn, tp = confusion_matrix(Y_test,class_predict).ravel()\n",
    "print (tn, fp, fn, tp)\n",
    "\n",
    "confusion_matrix(Y_test,class_predict)"
   ]
  },
  {
   "cell_type": "markdown",
   "metadata": {},
   "source": [
    " total 253 returns over the year 2017\n",
    " \n",
    " the logistic model made 54 incorrect prediction when market was going down and it predicted to go up. This happens at the 1H of 2017, when market was trending lower from 57 to 45 $ a barrel, but we notice that market was correcting more after it made moves on the downside.\n",
    " \n",
    " the logistic model made 38 incorrect prediction when market was going up and it predicted to go down. The incorrect prediction happened mostly after June 2017 when market was trending up with consecutives days up. \n",
    " \n",
    " The Recall for this model is TP/(TP+FN) = 103/143 = 0.73\n",
    " \n",
    " The precision for this model is TP/(TP+FP) = 105/159 = 0.66\n",
    " \n",
    " The specificity for this model is TN/(TN+FP) = 59 / 110 = 0.53\n",
    " \n",
    " The ROC for this model is RECALL/ SPECIFICITY = 0.73 / ( 0.53) = 1.37\n",
    " \n",
    " When data is highly skewed the recall-precision give a better picture of the model performance = 1.106\n",
    " "
   ]
  },
  {
   "cell_type": "markdown",
   "metadata": {},
   "source": [
    "We have here good predictions for recall or number of positive model catched.\n",
    "Nonetheless the specificity is st low and show we have catched only 53% of the negative values."
   ]
  },
  {
   "cell_type": "markdown",
   "metadata": {},
   "source": [
    "# Cross-validation with k-fold methods\n",
    "\n",
    "Let's split the initial sample X into k samples : we will take 40 samples as we want 1 sample per semester\n",
    "\n",
    "we use test sample as first simple and run 40 times the operation to evaluate the accuracy score, each set has \n",
    "a different test set\n",
    "\n"
   ]
  },
  {
   "cell_type": "code",
   "execution_count": 378,
   "metadata": {
    "collapsed": true
   },
   "outputs": [],
   "source": [
    "from sklearn.model_selection import KFold\n",
    "\n",
    "# We create empty array which will store the accuracy of estimation\n",
    "dtemp = []\n",
    "\n",
    "# We use original data and prepare it\n",
    "rets = brent_rets\n",
    "#rets = rets.iloc[6::]\n",
    "rets = rets.fillna(0)\n",
    "rets.index = Series(range(0,len(rets.index)))\n",
    "dire = np.array(rets.Direction)\n",
    "rets = np.array(rets.drop(['Direction','CO1 Comdty','rets'],axis=1))\n",
    "\n",
    "# We create 40 different sets from original data and run a k-fold method to Cross validate\n",
    "kf = KFold(n_splits=40)\n",
    "\n",
    "# We loop into the 39 different training set to calculate accurace with validation set\n",
    "for train, test in kf.split(rets):\n",
    "    # we create each train and test sets using k-fold method and name corresponding data\n",
    "    X_train, X_test, y_train, y_test = rets[train], rets[test], dire[train], dire[test]\n",
    "    \n",
    "    # we fit the model of the train data for each 39 training set\n",
    "    log_model3 = LogisticRegression()\n",
    "    log_model3.fit(X_train, y_train)\n",
    "    \n",
    "    # we predict the direction with each training set\n",
    "    class_predict = log_model3.predict(X_test)\n",
    "\n",
    "    # we calculate the accuracy of prediction with validation set and store the accuracy score in a new variable\n",
    "    dtemp.append(metrics.accuracy_score(y_test,class_predict))\n"
   ]
  },
  {
   "cell_type": "code",
   "execution_count": 379,
   "metadata": {},
   "outputs": [
    {
     "name": "stdout",
     "output_type": "stream",
     "text": [
      "the cross validation model gives a mean accuracy of 0.644678318136\n"
     ]
    },
    {
     "data": {
      "image/png": "[encoded data removed]",
      "text/plain": [
       "<matplotlib.figure.Figure at 0x238db610>"
      ]
     },
     "metadata": {},
     "output_type": "display_data"
    }
   ],
   "source": [
    "print \"the cross validation model gives a mean accuracy of %s\" %np.array(dtemp).mean()\n",
    "\n",
    "fig, ax = plt.subplots(1,2,figsize=(10, 10))\n",
    "\n",
    "ax1 = plt.subplot(221)\n",
    "plt.hist(dtemp);\n",
    "\n",
    "ax2 = plt.subplot(222)\n",
    "plt.boxplot(dtemp);"
   ]
  },
  {
   "cell_type": "markdown",
   "metadata": {},
   "source": [
    "\n",
    " The K-fold CV gives us a lower accuracy rate of the model than the accuracy of 2017 test set. \n",
    "\n",
    "Let's see what period gave a prediction accuracy of 55%\n"
   ]
  },
  {
   "cell_type": "code",
   "execution_count": 380,
   "metadata": {
    "scrolled": true
   },
   "outputs": [
    {
     "name": "stdout",
     "output_type": "stream",
     "text": [
      " the incices of the test period for which accuracy rate was below 55pct is 2001-01-10, 2001-07-25 \n",
      " the incices of the test period for which accuracy rate was below 55pct is 2002-02-11, 2002-08-28 \n",
      " the incices of the test period for which accuracy rate was below 55pct is 2003-03-17, 2003-10-02 \n"
     ]
    }
   ],
   "source": [
    "outliers = []\n",
    "\n",
    "for train, test in kf.split(rets):\n",
    "    # we create each train and test sets using k-fold method and name corresponding data\n",
    "    X_train, X_test, y_train, y_test = rets[train], rets[test], dire[train], dire[test]\n",
    "    \n",
    "    # we fit the model of the train data for each 39 training set\n",
    "    log_model3 = LogisticRegression()\n",
    "    log_model3.fit(X_train, y_train)\n",
    "    \n",
    "    # we predict the direction with each training set\n",
    "    class_predict = log_model3.predict(X_test)\n",
    "    \n",
    "    if metrics.accuracy_score(y_test,class_predict)<0.55:\n",
    "        outliers.append(test)\n",
    "        \n",
    "df = Series(outliers)\n",
    "\n",
    "for i in range(len(df)):\n",
    "    date1=min(brent_rets.iloc[min(df[i]):max(df[i])].index)\n",
    "    date2=max(brent_rets.iloc[min(df[i]):max(df[i])].index)\n",
    "    print \" the incices of the test period for which accuracy rate was below 55pct is %s, %s \" %(date1.date(),date2.date())\n",
    "    #print \" the incices of the test period for which accuracy rate was below 55pct is %s\" %date1\n",
    "#df.to_csv('trainset.csv')"
   ]
  },
  {
   "cell_type": "markdown",
   "metadata": {},
   "source": [
    "We have three different periods during which we see very low accuracy rate if we train the model out of those times. \n",
    "It is not enough to conclude something from it though, as it was not a particular time such as 2008 crisis"
   ]
  },
  {
   "cell_type": "markdown",
   "metadata": {
    "collapsed": true
   },
   "source": [
    "# Cross-validation with Repeated K-Fold methods N times\n",
    "\n",
    "Let's split the initial sample X into k samples and repeat the opperation 20 times: we will take 40 samples as we want 1 sample per semester\n",
    "\n",
    "we use test sample as first simple and run 40 times the operation to evaluate the accuracy score\n"
   ]
  },
  {
   "cell_type": "code",
   "execution_count": 381,
   "metadata": {
    "collapsed": true
   },
   "outputs": [],
   "source": [
    "from sklearn.model_selection import RepeatedKFold\n",
    "\n",
    "# We create empty array which will store the accuracy of estimation\n",
    "dtempNtimes = []\n",
    "\n",
    "# We use original data and prepare it\n",
    "rets = brent_rets\n",
    "#rets = rets.iloc[6::]\n",
    "rets = rets.fillna(0)\n",
    "rets.index = Series(range(0,len(rets.index)))\n",
    "dire = np.array(rets.Direction)\n",
    "rets = np.array(rets.drop(['Direction','CO1 Comdty','rets'],axis=1))\n",
    "\n",
    "# We create 40 different sets from original data and run a k-fold method to Cross validate\n",
    "rkf = RepeatedKFold(n_splits=40,n_repeats=20)\n",
    "\n",
    "# We loop into the 39 different training set to calculate accurace with validation set\n",
    "for train, test in rkf.split(rets):\n",
    "    # we create each train and test sets using k-fold method and name corresponding data\n",
    "    X_train, X_test, y_train, y_test = rets[train], rets[test], dire[train], dire[test]\n",
    "    \n",
    "    # we fit the model of the train data for each 39 training set\n",
    "    log_model3 = LogisticRegression()\n",
    "    log_model3.fit(X_train, y_train)\n",
    "    \n",
    "    # we predict the direction with each training set\n",
    "    class_predict = log_model3.predict(X_test)\n",
    "\n",
    "    # we calculate the accuracy of prediction with validation set and store the accuracy score in a new variable\n",
    "    dtempNtimes.append(metrics.accuracy_score(y_test,class_predict))"
   ]
  },
  {
   "cell_type": "code",
   "execution_count": 382,
   "metadata": {},
   "outputs": [
    {
     "name": "stdout",
     "output_type": "stream",
     "text": [
      "the cross validation model repeated 20 times gives a mean accuracy of 0.644890894124\n"
     ]
    },
    {
     "data": {
      "image/png": "[encoded data removed]",
      "text/plain": [
       "<matplotlib.figure.Figure at 0x231a6ff0>"
      ]
     },
     "metadata": {},
     "output_type": "display_data"
    }
   ],
   "source": [
    "print \"the cross validation model repeated 20 times gives a mean accuracy of %s\" %np.array(dtempNtimes).mean()\n",
    "\n",
    "fig, ax = plt.subplots(1,2,figsize=(10, 10))\n",
    "\n",
    "ax1 = plt.subplot(221)\n",
    "plt.hist(dtempNtimes,color='orange');\n",
    "\n",
    "ax2 = plt.subplot(222)\n",
    "plt.boxplot(dtempNtimes);"
   ]
  },
  {
   "cell_type": "code",
   "execution_count": null,
   "metadata": {
    "collapsed": true
   },
   "outputs": [],
   "source": []
  },
  {
   "cell_type": "code",
   "execution_count": null,
   "metadata": {
    "collapsed": true
   },
   "outputs": [],
   "source": []
  }
 ],
 "metadata": {
  "anaconda-cloud": {},
  "kernelspec": {
   "display_name": "Python 2",
   "language": "python",
   "name": "python2"
  },
  "language_info": {
   "codemirror_mode": {
    "name": "ipython",
    "version": 2
   },
   "file_extension": ".py",
   "mimetype": "text/x-python",
   "name": "python",
   "nbconvert_exporter": "python",
   "pygments_lexer": "ipython2",
   "version": "2.7.14"
  }
 },
 "nbformat": 4,
 "nbformat_minor": 1
}
